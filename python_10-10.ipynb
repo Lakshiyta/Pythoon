{
 "cells": [
  {
   "cell_type": "markdown",
   "id": "579b22ef-4fcb-4958-ba80-a43002806cf8",
   "metadata": {},
   "source": [
    "# Define function"
   ]
  },
  {
   "cell_type": "code",
   "execution_count": null,
   "id": "d49dfab9-d434-4bf2-938c-3a090cbceee0",
   "metadata": {},
   "outputs": [],
   "source": [
    "# VARIABLE NO. OF ARHGUMENTS\n",
    "(when we want to function of multiple values)"
   ]
  },
  {
   "cell_type": "code",
   "execution_count": 1,
   "id": "4b227ccb-f5de-4637-bb7a-50e848aa170a",
   "metadata": {},
   "outputs": [],
   "source": [
    "def add(*x):\n",
    "    return type(x)"
   ]
  },
  {
   "cell_type": "code",
   "execution_count": 3,
   "id": "4894a642-b5ff-40c4-94c9-ec3efbd2e996",
   "metadata": {},
   "outputs": [
    {
     "data": {
      "text/plain": [
       "tuple"
      ]
     },
     "execution_count": 3,
     "metadata": {},
     "output_type": "execute_result"
    }
   ],
   "source": [
    "add(4,5,6,8,7)"
   ]
  },
  {
   "cell_type": "code",
   "execution_count": 6,
   "id": "5cfd9eda-5b11-48dd-8c45-169eaf7d80e2",
   "metadata": {},
   "outputs": [],
   "source": [
    "def add(*x):\n",
    "    return type(x),x"
   ]
  },
  {
   "cell_type": "code",
   "execution_count": 8,
   "id": "09ef43a0-67e9-4d97-9ab3-df0629440465",
   "metadata": {},
   "outputs": [
    {
     "data": {
      "text/plain": [
       "(tuple, (3, 4, 1, 2, 6))"
      ]
     },
     "execution_count": 8,
     "metadata": {},
     "output_type": "execute_result"
    }
   ],
   "source": [
    "add(3,4,1,2,6)"
   ]
  },
  {
   "cell_type": "code",
   "execution_count": 10,
   "id": "038cfe38-c900-493b-b385-072d3ae858b2",
   "metadata": {},
   "outputs": [],
   "source": [
    "def ex(*g):\n",
    "    total=0\n",
    "    for i in g:\n",
    "        total +=i\n",
    "    return total"
   ]
  },
  {
   "cell_type": "code",
   "execution_count": 12,
   "id": "4642ea49-e111-44c4-96fd-24c50fad7907",
   "metadata": {},
   "outputs": [
    {
     "data": {
      "text/plain": [
       "21"
      ]
     },
     "execution_count": 12,
     "metadata": {},
     "output_type": "execute_result"
    }
   ],
   "source": [
    "ex(9,2,1,3,6)"
   ]
  },
  {
   "cell_type": "code",
   "execution_count": 32,
   "id": "cc0cf844-d3f5-4e8f-9962-498ac71055b4",
   "metadata": {},
   "outputs": [],
   "source": [
    "# concat two list and print the largest name from those list\n",
    "def concat(x,y=[]):\n",
    "    z=x+y\n",
    "    name=\"\"\n",
    "    for i in z:\n",
    "        if len(i)>len(name):\n",
    "            name=i\n",
    "    return name"
   ]
  },
  {
   "cell_type": "code",
   "execution_count": 34,
   "id": "d27628c0-3c4b-4298-a2b5-c0f56b500bec",
   "metadata": {},
   "outputs": [
    {
     "data": {
      "text/plain": [
       "'aaa'"
      ]
     },
     "execution_count": 34,
     "metadata": {},
     "output_type": "execute_result"
    }
   ],
   "source": [
    "concat([\"a\",\"aa\",\"aaa\"],[\"b\",\"bb\",\"bbb\"])"
   ]
  },
  {
   "cell_type": "code",
   "execution_count": 36,
   "id": "c49761f1-5efc-4796-86dc-c7d3434bf478",
   "metadata": {},
   "outputs": [
    {
     "data": {
      "text/plain": [
       "'Aaa'"
      ]
     },
     "execution_count": 36,
     "metadata": {},
     "output_type": "execute_result"
    }
   ],
   "source": [
    "concat([\"A\",\"Aaa\",\"a\"])"
   ]
  },
  {
   "cell_type": "code",
   "execution_count": null,
   "id": "a8c3c0e5-96ef-460c-b49e-a6151612559c",
   "metadata": {},
   "outputs": [],
   "source": []
  }
 ],
 "metadata": {
  "kernelspec": {
   "display_name": "Python 3 (ipykernel)",
   "language": "python",
   "name": "python3"
  },
  "language_info": {
   "codemirror_mode": {
    "name": "ipython",
    "version": 3
   },
   "file_extension": ".py",
   "mimetype": "text/x-python",
   "name": "python",
   "nbconvert_exporter": "python",
   "pygments_lexer": "ipython3",
   "version": "3.12.4"
  }
 },
 "nbformat": 4,
 "nbformat_minor": 5
}
