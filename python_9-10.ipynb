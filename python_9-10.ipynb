{
 "cells": [
  {
   "cell_type": "markdown",
   "id": "50a776a6-5d0b-4451-9af8-9354b57f5d93",
   "metadata": {},
   "source": [
    "# Define Function"
   ]
  },
  {
   "cell_type": "code",
   "execution_count": null,
   "id": "d61d354b-298e-4b92-bbba-4ec28398f5ac",
   "metadata": {},
   "outputs": [],
   "source": [
    "Function in STRING"
   ]
  },
  {
   "cell_type": "code",
   "execution_count": 15,
   "id": "f1b2d1f1-016e-4910-92ce-38f62ac9b3e6",
   "metadata": {},
   "outputs": [],
   "source": [
    "# function to convert first two letter of a string into uppercase\n",
    "def con1():\n",
    "    s=input(\"Enter the string\")\n",
    "    return s[0:2].upper()+s[2:]"
   ]
  },
  {
   "cell_type": "code",
   "execution_count": 17,
   "id": "8b58c199-220d-410d-a833-bec1c1d1d9a0",
   "metadata": {},
   "outputs": [
    {
     "name": "stdin",
     "output_type": "stream",
     "text": [
      "Enter the string heloo where r you\n"
     ]
    },
    {
     "data": {
      "text/plain": [
       "'HEloo where r you'"
      ]
     },
     "execution_count": 17,
     "metadata": {},
     "output_type": "execute_result"
    }
   ],
   "source": [
    "con1()"
   ]
  },
  {
   "cell_type": "code",
   "execution_count": 47,
   "id": "db41dc38-6e88-442f-829b-fbefc2302760",
   "metadata": {},
   "outputs": [],
   "source": [
    "# function to convert last two letter of a string into uppercase\n",
    "def con2():\n",
    "    s=input(\"Enter the string:\")\n",
    "    return s[0:-2]+s[-2:].upper()"
   ]
  },
  {
   "cell_type": "code",
   "execution_count": 49,
   "id": "eb108d36-90ac-4820-8a06-5dbd4d026758",
   "metadata": {},
   "outputs": [
    {
     "name": "stdin",
     "output_type": "stream",
     "text": [
      "Enter the string: heloowhereryou\n"
     ]
    },
    {
     "data": {
      "text/plain": [
       "'heloowhereryOU'"
      ]
     },
     "execution_count": 49,
     "metadata": {},
     "output_type": "execute_result"
    }
   ],
   "source": [
    "con2()"
   ]
  },
  {
   "cell_type": "code",
   "execution_count": 55,
   "id": "690783e1-c260-4f77-a5f6-8c8355de263b",
   "metadata": {},
   "outputs": [],
   "source": [
    "# single function to convert 1st 2 letters into uppercase or last 2 letters\n",
    "def con3(x,y):\n",
    "    if y==2:\n",
    "        return x[0:2].upper()+x[2:]\n",
    "    elif y==-2:\n",
    "        return x[0:-2]+x[-2:].upper()"
   ]
  },
  {
   "cell_type": "code",
   "execution_count": 57,
   "id": "d44da220-c8cd-413e-9e9d-692a0da55dcf",
   "metadata": {},
   "outputs": [
    {
     "data": {
      "text/plain": [
       "'THere are many people'"
      ]
     },
     "execution_count": 57,
     "metadata": {},
     "output_type": "execute_result"
    }
   ],
   "source": [
    "con3(\"there are many people\",2)"
   ]
  },
  {
   "cell_type": "code",
   "execution_count": 59,
   "id": "071cf15a-214a-430f-96f0-761138217f71",
   "metadata": {},
   "outputs": [
    {
     "data": {
      "text/plain": [
       "'there are many peopLE'"
      ]
     },
     "execution_count": 59,
     "metadata": {},
     "output_type": "execute_result"
    }
   ],
   "source": [
    "con3(\"there are many people\",-2)"
   ]
  },
  {
   "cell_type": "code",
   "execution_count": null,
   "id": "fa1a505a-6802-4500-a9e4-f57c85376376",
   "metadata": {},
   "outputs": [],
   "source": [
    "Function in LIST"
   ]
  },
  {
   "cell_type": "code",
   "execution_count": 63,
   "id": "0445af95-309d-40a7-9d4f-cc4922b527e8",
   "metadata": {},
   "outputs": [
    {
     "name": "stdout",
     "output_type": "stream",
     "text": [
      "28\n"
     ]
    }
   ],
   "source": [
    "# function to return the sum of list\n",
    "r=[1,2,3,4,5,6,7]\n",
    "total=0\n",
    "for i in r:\n",
    "    total=total+i\n",
    "print(total)"
   ]
  },
  {
   "cell_type": "code",
   "execution_count": 91,
   "id": "94b33309-8f5c-4d82-9fee-908261781681",
   "metadata": {},
   "outputs": [],
   "source": [
    "def total(r):\n",
    "    total=0\n",
    "    for i in r:\n",
    "        total=total+i\n",
    "    return (total)"
   ]
  },
  {
   "cell_type": "code",
   "execution_count": 93,
   "id": "d345f705-2246-41ad-8e77-520dd2bb1eca",
   "metadata": {},
   "outputs": [
    {
     "data": {
      "text/plain": [
       "28"
      ]
     },
     "execution_count": 93,
     "metadata": {},
     "output_type": "execute_result"
    }
   ],
   "source": [
    "total(r)"
   ]
  },
  {
   "cell_type": "code",
   "execution_count": 83,
   "id": "3124c4b6-a3d2-4672-b544-75d3570a7cda",
   "metadata": {},
   "outputs": [
    {
     "name": "stdout",
     "output_type": "stream",
     "text": [
      "15\n"
     ]
    }
   ],
   "source": [
    "# find the sum of all positive elements in the list\n",
    "t=[1,2,3,4,5,-8,-9,-10,-2]\n",
    "total=0\n",
    "for i in t:\n",
    "    if i>0:\n",
    "        total=total+i\n",
    "print(total)"
   ]
  },
  {
   "cell_type": "code",
   "execution_count": 87,
   "id": "8662815b-7a10-4c44-b4e5-4416bcb47437",
   "metadata": {},
   "outputs": [],
   "source": [
    "def pos_sum(t):\n",
    "    total=0\n",
    "    for i in t:\n",
    "        if i>0:\n",
    "            total=total+i\n",
    "    return total"
   ]
  },
  {
   "cell_type": "code",
   "execution_count": 89,
   "id": "ea334d75-6710-429c-b43b-5ed19b7803cd",
   "metadata": {},
   "outputs": [
    {
     "data": {
      "text/plain": [
       "15"
      ]
     },
     "execution_count": 89,
     "metadata": {},
     "output_type": "execute_result"
    }
   ],
   "source": [
    "pos_sum(t)"
   ]
  },
  {
   "cell_type": "code",
   "execution_count": 111,
   "id": "01b50e8f-c7e6-4a97-b868-e9e10aac188f",
   "metadata": {},
   "outputs": [],
   "source": [
    "# count the number of positive elements\n",
    "def pos_count(x):\n",
    "    t=0\n",
    "    for i in x:\n",
    "        if i>0:\n",
    "            t=t+i\n",
    "    return t"
   ]
  },
  {
   "cell_type": "code",
   "execution_count": 113,
   "id": "4ec94653-cf5d-4536-96ac-a66e4de70b20",
   "metadata": {},
   "outputs": [
    {
     "data": {
      "text/plain": [
       "15"
      ]
     },
     "execution_count": 113,
     "metadata": {},
     "output_type": "execute_result"
    }
   ],
   "source": [
    "pos_count(t)"
   ]
  },
  {
   "cell_type": "code",
   "execution_count": 115,
   "id": "da16f976-d5cc-4adc-aeec-cc25077be678",
   "metadata": {},
   "outputs": [],
   "source": [
    "# circle:area=pi* r**2\n",
    "# Circumference=2 pi * r\n",
    "def solid():\n",
    "    name=input(\"Enter solid name:\")\n",
    "    if name.lower()==\"circle\":\n",
    "        h=input(\"Enter area or circumference\")\n",
    "        if h.lower()==\"area\":\n",
    "            r=float(input(\"Enter R:\"))\n",
    "            return 3.14*(r*r)\n",
    "        elif h.lower()==\"circumference\":\n",
    "            r=float(input(\"Enter R:\"))\n",
    "            return 2*3.14*r"
   ]
  },
  {
   "cell_type": "code",
   "execution_count": 117,
   "id": "d81fd801-bfd9-489a-8c9b-96c2479d4274",
   "metadata": {},
   "outputs": [
    {
     "name": "stdin",
     "output_type": "stream",
     "text": [
      "Enter solid name: circle\n",
      "Enter area or circumference area\n",
      "Enter R: 5\n"
     ]
    },
    {
     "data": {
      "text/plain": [
       "78.5"
      ]
     },
     "execution_count": 117,
     "metadata": {},
     "output_type": "execute_result"
    }
   ],
   "source": [
    "solid()"
   ]
  },
  {
   "cell_type": "code",
   "execution_count": 119,
   "id": "6e035bca-6c1d-46e0-a542-f105235e2832",
   "metadata": {},
   "outputs": [
    {
     "name": "stdin",
     "output_type": "stream",
     "text": [
      "Enter solid name: circle\n",
      "Enter area or circumference circumference\n",
      "Enter R: 7\n"
     ]
    },
    {
     "data": {
      "text/plain": [
       "43.96"
      ]
     },
     "execution_count": 119,
     "metadata": {},
     "output_type": "execute_result"
    }
   ],
   "source": [
    "solid()"
   ]
  },
  {
   "cell_type": "code",
   "execution_count": 2,
   "id": "6667f78d-b936-4676-82e1-51d54b949dc8",
   "metadata": {},
   "outputs": [],
   "source": [
    "# circle:area=pi* r**2 & Circumference=2 pie * r\n",
    "# triangle:area=(1/2)*b*h & perimeter = (a+b+c)\n",
    "# cylinder:area=pi* r**2*h & surface area=2*pi*r(r+h)\n",
    "def solid():\n",
    "    name = input(\"Enter solid name: \")\n",
    "    \n",
    "    if name.lower() == \"circle\":\n",
    "        z = input(\"Enter area or circumference: \")\n",
    "        if z.lower() == \"area\":\n",
    "            r = float(input(\"Enter R: \"))\n",
    "            return 3.14 * (r ** 2)\n",
    "        elif z.lower() == \"circumference\":\n",
    "            r = float(input(\"Enter R: \"))\n",
    "            return 2 * 3.14 * r\n",
    "    \n",
    "    elif name.lower() == \"triangle\":\n",
    "        i = input(\"Enter area or perimeter: \")\n",
    "        if i.lower() == \"area\":\n",
    "            b = float(input(\"Enter breadth: \"))\n",
    "            h = float(input(\"Enter height: \"))\n",
    "            return (1/2) * b * h\n",
    "        elif i.lower() == \"perimeter\":\n",
    "            a = float(input(\"Enter a value: \"))\n",
    "            b = float(input(\"Enter b value: \"))\n",
    "            c = float(input(\"Enter c value: \"))\n",
    "            return a + b + c\n",
    "    \n",
    "    elif name.lower() == \"cylinder\":\n",
    "        x = input(\"Enter area or surface area: \")\n",
    "        if x.lower() == \"area\":\n",
    "            d = float(input(\"Enter r value: \"))\n",
    "            k = float(input(\"Enter h value: \"))\n",
    "            return 3.14 * (d ** 2) * k\n",
    "        elif x.lower() == \"surface area\":\n",
    "            l = float(input(\"Enter radius: \"))\n",
    "            o = float(input(\"Enter height: \"))\n",
    "            return 2 * 3.14 * l * (l + o)\n",
    "    \n",
    "    else:\n",
    "        return \"Invalid solid name\""
   ]
  },
  {
   "cell_type": "code",
   "execution_count": 4,
   "id": "c6e3b9cd-18f0-41c6-a43f-b48fd896a2e8",
   "metadata": {},
   "outputs": [
    {
     "name": "stdin",
     "output_type": "stream",
     "text": [
      "Enter solid name:  triangle\n",
      "Enter area or perimeter:  area\n",
      "Enter breadth:  4\n",
      "Enter height:  7\n"
     ]
    },
    {
     "data": {
      "text/plain": [
       "14.0"
      ]
     },
     "execution_count": 4,
     "metadata": {},
     "output_type": "execute_result"
    }
   ],
   "source": [
    "solid()"
   ]
  },
  {
   "cell_type": "markdown",
   "id": "c69b4498-d047-49cb-bbf0-244509d85602",
   "metadata": {},
   "source": [
    "# Function Documentation"
   ]
  },
  {
   "cell_type": "code",
   "execution_count": 2,
   "id": "2504eb51-c97c-49d7-9e16-83aa1d2555ce",
   "metadata": {},
   "outputs": [],
   "source": [
    "def add(x,y):\n",
    "    \"\"\" This is used to calculate \n",
    "    the addition of 2 numbers\"\"\"\n",
    "    return x+y"
   ]
  },
  {
   "cell_type": "code",
   "execution_count": null,
   "id": "838064e9-4853-4d46-ac9b-4af9bdb11567",
   "metadata": {},
   "outputs": [],
   "source": [
    "add()"
   ]
  },
  {
   "cell_type": "code",
   "execution_count": null,
   "id": "a69ad1ec-df73-48d8-ab98-821aed1a2a01",
   "metadata": {},
   "outputs": [],
   "source": [
    "shift+tab to see the function documnetation "
   ]
  },
  {
   "cell_type": "markdown",
   "id": "9cb59b60-3062-48b7-8cb5-d20db8b3daaf",
   "metadata": {},
   "source": [
    "# Optional Parameters"
   ]
  },
  {
   "cell_type": "code",
   "execution_count": 6,
   "id": "e4702e4d-fc06-40ba-8fb9-f5a4d5050b02",
   "metadata": {},
   "outputs": [],
   "source": [
    "def area(r,pi=3.14):\n",
    "    return r*pi"
   ]
  },
  {
   "cell_type": "code",
   "execution_count": 8,
   "id": "b85994a4-61d5-4e17-bc1e-78f9e8c5863a",
   "metadata": {},
   "outputs": [
    {
     "data": {
      "text/plain": [
       "12.56"
      ]
     },
     "execution_count": 8,
     "metadata": {},
     "output_type": "execute_result"
    }
   ],
   "source": [
    "area(4)"
   ]
  },
  {
   "cell_type": "code",
   "execution_count": null,
   "id": "dbcbe5df-8def-48ab-8bac-8c4fbf5662f1",
   "metadata": {},
   "outputs": [],
   "source": [
    "your choice to give pi value or not . Basically,it is optional for us."
   ]
  }
 ],
 "metadata": {
  "kernelspec": {
   "display_name": "Python 3 (ipykernel)",
   "language": "python",
   "name": "python3"
  },
  "language_info": {
   "codemirror_mode": {
    "name": "ipython",
    "version": 3
   },
   "file_extension": ".py",
   "mimetype": "text/x-python",
   "name": "python",
   "nbconvert_exporter": "python",
   "pygments_lexer": "ipython3",
   "version": "3.12.4"
  }
 },
 "nbformat": 4,
 "nbformat_minor": 5
}
