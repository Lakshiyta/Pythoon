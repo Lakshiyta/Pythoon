{
 "cells": [
  {
   "cell_type": "markdown",
   "id": "78656e49-c08a-4dfb-908f-928c04dcea9f",
   "metadata": {},
   "source": [
    "# Loop"
   ]
  },
  {
   "cell_type": "code",
   "execution_count": null,
   "id": "c9dba9f6-2f88-443c-9785-ff2f7842c73d",
   "metadata": {},
   "outputs": [],
   "source": [
    "for variable in data_str:"
   ]
  },
  {
   "cell_type": "code",
   "execution_count": 3,
   "id": "4a1d4b61-bfe5-4a9c-ab37-746df8a1c995",
   "metadata": {},
   "outputs": [
    {
     "name": "stdout",
     "output_type": "stream",
     "text": [
      "0\n",
      "1\n",
      "2\n",
      "3\n",
      "4\n",
      "5\n",
      "6\n",
      "7\n",
      "8\n",
      "9\n",
      "10\n"
     ]
    }
   ],
   "source": [
    "w=[0,1,2,3,4,5,6,7,8,9,10]\n",
    "for i in w:\n",
    "    print(i)"
   ]
  },
  {
   "cell_type": "code",
   "execution_count": 5,
   "id": "305ec385-e11c-432e-8209-baccc4c75367",
   "metadata": {},
   "outputs": [
    {
     "data": {
      "text/plain": [
       "10"
      ]
     },
     "execution_count": 5,
     "metadata": {},
     "output_type": "execute_result"
    }
   ],
   "source": [
    "i"
   ]
  },
  {
   "cell_type": "code",
   "execution_count": null,
   "id": "d538c348-2600-4a9e-b26f-0f91a021acf9",
   "metadata": {},
   "outputs": [],
   "source": [
    "#print those elements which is more than 5"
   ]
  },
  {
   "cell_type": "code",
   "execution_count": 7,
   "id": "a9bf0f95-3dcb-4f9e-9542-97cc8510db03",
   "metadata": {},
   "outputs": [
    {
     "name": "stdout",
     "output_type": "stream",
     "text": [
      "6\n",
      "7\n",
      "8\n",
      "9\n",
      "10\n"
     ]
    }
   ],
   "source": [
    "w=[0,1,2,3,4,5,6,7,8,9,10]\n",
    "for i in w:\n",
    "    if i>5:\n",
    "        print(i)"
   ]
  },
  {
   "cell_type": "code",
   "execution_count": null,
   "id": "a97fbf72-f2dd-4e79-b3bf-3fb637abaa94",
   "metadata": {},
   "outputs": [],
   "source": [
    "#calculate square of those elements which is more than 5"
   ]
  },
  {
   "cell_type": "code",
   "execution_count": 9,
   "id": "d18a05d3-ff60-454b-b90f-68efd0e28025",
   "metadata": {},
   "outputs": [
    {
     "name": "stdout",
     "output_type": "stream",
     "text": [
      "6 ---> 36\n",
      "7 ---> 49\n",
      "8 ---> 64\n",
      "9 ---> 81\n",
      "10 ---> 100\n"
     ]
    }
   ],
   "source": [
    "w=[0,1,2,3,4,5,6,7,8,9,10]\n",
    "for i in w:\n",
    "    if i>5:\n",
    "        print(i,\"--->\",i**2)"
   ]
  },
  {
   "cell_type": "code",
   "execution_count": null,
   "id": "40f0c014-3d41-4d6e-a425-861655ef7c66",
   "metadata": {},
   "outputs": [],
   "source": [
    "#print even elements from the list"
   ]
  },
  {
   "cell_type": "code",
   "execution_count": 11,
   "id": "7b9f836e-0033-4656-a860-1eb5d28be263",
   "metadata": {},
   "outputs": [
    {
     "name": "stdout",
     "output_type": "stream",
     "text": [
      "0\n",
      "2\n",
      "4\n",
      "6\n",
      "8\n",
      "10\n"
     ]
    }
   ],
   "source": [
    "w=[0,1,2,3,4,5,6,7,8,9,10]\n",
    "for i in w:\n",
    "    if i%2==0:\n",
    "        print(i)"
   ]
  },
  {
   "cell_type": "code",
   "execution_count": null,
   "id": "aab2337b-5f4e-4503-b7b9-8a2481c755c6",
   "metadata": {},
   "outputs": [],
   "source": [
    "#print elements between 4 and 9"
   ]
  },
  {
   "cell_type": "code",
   "execution_count": 17,
   "id": "4ceb08da-4cac-42de-a6d6-4d51fea4e53f",
   "metadata": {},
   "outputs": [
    {
     "name": "stdout",
     "output_type": "stream",
     "text": [
      "5\n",
      "6\n",
      "7\n",
      "8\n"
     ]
    }
   ],
   "source": [
    "w=[0,1,2,3,4,5,6,7,8,9,10]\n",
    "for i in w:\n",
    "    if i>4 and i<9:\n",
    "        print(i)"
   ]
  },
  {
   "cell_type": "code",
   "execution_count": null,
   "id": "741ecef3-9bb0-44ab-a42c-7bf9b57497b5",
   "metadata": {},
   "outputs": [],
   "source": [
    "#print duplicate elements"
   ]
  },
  {
   "cell_type": "code",
   "execution_count": 21,
   "id": "707c438e-879d-433e-beaf-392f97182aab",
   "metadata": {},
   "outputs": [
    {
     "name": "stdout",
     "output_type": "stream",
     "text": [
      "4\n",
      "5\n",
      "6\n",
      "9\n",
      "5\n",
      "4\n",
      "5\n",
      "6\n",
      "9\n"
     ]
    }
   ],
   "source": [
    "d=[4,7,5,3,6,9,8,5,2,1,4,5,6,9]\n",
    "for i in d:\n",
    "    if d.count(i)>1:\n",
    "        print(i)"
   ]
  },
  {
   "cell_type": "code",
   "execution_count": null,
   "id": "ddd664ca-5f11-4c30-a429-f2599c67c906",
   "metadata": {},
   "outputs": [],
   "source": [
    "#Interview questions\n",
    "#create two bank list and add even element in 1st list & odd element in 2nd list."
   ]
  },
  {
   "cell_type": "code",
   "execution_count": 23,
   "id": "faee2f67-d4ed-49e1-aa03-a552405ce04a",
   "metadata": {},
   "outputs": [
    {
     "name": "stdout",
     "output_type": "stream",
     "text": [
      "Even [0, 2, 4, 6, 8, 10, 12, 14, 16]\n",
      "Odd [1, 3, 5, 7, 9, 11, 13, 15]\n"
     ]
    }
   ],
   "source": [
    "r=[0,1,2,3,4,5,6,7,8,9,10,11,12,13,14,15,16]\n",
    "even=[]\n",
    "odd=[]\n",
    "for i in r:\n",
    "    if i%2==0:\n",
    "        even.append(i)\n",
    "    elif i%2!=0:\n",
    "        odd.append(i)\n",
    "print(\"Even\",even)\n",
    "print(\"Odd\",odd)"
   ]
  },
  {
   "cell_type": "code",
   "execution_count": null,
   "id": "c6d14535-32a6-4a9d-99aa-bb0a57ea4830",
   "metadata": {},
   "outputs": [],
   "source": [
    "#print perfect square"
   ]
  },
  {
   "cell_type": "code",
   "execution_count": 41,
   "id": "0add6c95-16b4-4a95-8d65-c5f625e586bd",
   "metadata": {},
   "outputs": [
    {
     "name": "stdout",
     "output_type": "stream",
     "text": [
      "4\n",
      "9\n",
      "16\n",
      "25\n",
      "36\n"
     ]
    }
   ],
   "source": [
    "h=[4,9,16,25,36,8,27,3,5,7,11]\n",
    "for i in h:\n",
    "    if i**(1/2)==int(i**(1/2)):\n",
    "        print(i)"
   ]
  },
  {
   "cell_type": "code",
   "execution_count": null,
   "id": "8e355584-ff7c-42c7-9884-941b45253f7b",
   "metadata": {},
   "outputs": [],
   "source": [
    "#print perfect cube"
   ]
  },
  {
   "cell_type": "code",
   "execution_count": 39,
   "id": "54f273fc-3f25-4f18-a871-a9ccf7a78647",
   "metadata": {},
   "outputs": [
    {
     "name": "stdout",
     "output_type": "stream",
     "text": [
      "8\n",
      "27\n"
     ]
    }
   ],
   "source": [
    "h=[4,9,16,25,36,8,27,3,5,7,11]\n",
    "for i in h:\n",
    "    if i**(1/3)==int(i**(1/3)):\n",
    "        print(i)"
   ]
  },
  {
   "cell_type": "code",
   "execution_count": null,
   "id": "c780fcaf-e1b0-41a0-9682-10d30f9aab1b",
   "metadata": {},
   "outputs": [],
   "source": [
    "#print 2nd highest elemnt"
   ]
  },
  {
   "cell_type": "code",
   "execution_count": 43,
   "id": "6106302f-fad3-4734-b45f-14e64890c491",
   "metadata": {},
   "outputs": [
    {
     "name": "stdout",
     "output_type": "stream",
     "text": [
      "27\n"
     ]
    }
   ],
   "source": [
    "h=[4,9,16,25,36,8,27,3,5,7,11,36]\n",
    "h.sort()\n",
    "index =-2\n",
    "for i in h:\n",
    "    if h[index]==max(h):\n",
    "        index-=1\n",
    "print(h[index])"
   ]
  },
  {
   "cell_type": "code",
   "execution_count": null,
   "id": "23123ef0-0c68-4250-86de-e1049dfc85b0",
   "metadata": {},
   "outputs": [],
   "source": [
    "#print 3rd highest element"
   ]
  },
  {
   "cell_type": "code",
   "execution_count": 55,
   "id": "7ce31172-9e88-4de3-ae2d-beb6ad0e70b5",
   "metadata": {},
   "outputs": [
    {
     "name": "stdout",
     "output_type": "stream",
     "text": [
      "25\n"
     ]
    }
   ],
   "source": [
    "h=[4,9,16,25,36,8,27,3,5,7,11,36]\n",
    "h.sort()\n",
    "index=-4\n",
    "for i in h:\n",
    "    if h[index]==max(h):\n",
    "        index-=1\n",
    "print(h[index])"
   ]
  },
  {
   "cell_type": "code",
   "execution_count": null,
   "id": "93a4cdb3-5b90-4099-9761-4fb6b4f4da39",
   "metadata": {},
   "outputs": [],
   "source": []
  }
 ],
 "metadata": {
  "kernelspec": {
   "display_name": "Python 3 (ipykernel)",
   "language": "python",
   "name": "python3"
  },
  "language_info": {
   "codemirror_mode": {
    "name": "ipython",
    "version": 3
   },
   "file_extension": ".py",
   "mimetype": "text/x-python",
   "name": "python",
   "nbconvert_exporter": "python",
   "pygments_lexer": "ipython3",
   "version": "3.12.4"
  }
 },
 "nbformat": 4,
 "nbformat_minor": 5
}
