{
 "cells": [
  {
   "cell_type": "code",
   "execution_count": 1,
   "id": "33b93b55-9c11-4a52-9240-89d1ecb51b20",
   "metadata": {},
   "outputs": [],
   "source": [
    "#comparison operators"
   ]
  },
  {
   "cell_type": "code",
   "execution_count": null,
   "id": "7b813ea5-cb07-44f9-968a-cdbd52b06774",
   "metadata": {},
   "outputs": [],
   "source": [
    "> #greater tha\n",
    "< #less than\n",
    "== #equals to\n",
    "!= #not equals to\n",
    ">= #more than equals to\n",
    "<= #less than equal to"
   ]
  },
  {
   "cell_type": "code",
   "execution_count": null,
   "id": "8d05d2d2-9418-4a51-9428-2603470aed4d",
   "metadata": {},
   "outputs": [],
   "source": [
    "y=8\n",
    "t=4\n",
    "e=6\n",
    "h=3"
   ]
  },
  {
   "cell_type": "code",
   "execution_count": null,
   "id": "0d51f134-95b9-49c2-9823-6f03a62f6a4a",
   "metadata": {},
   "outputs": [],
   "source": [
    "y<t"
   ]
  },
  {
   "cell_type": "code",
   "execution_count": null,
   "id": "f9bf8b25-c6e9-4ce9-b520-66a5dbfff4d4",
   "metadata": {},
   "outputs": [],
   "source": [
    "y==t"
   ]
  },
  {
   "cell_type": "code",
   "execution_count": null,
   "id": "b432fbae-2651-498a-a64e-b3eed8f9525e",
   "metadata": {},
   "outputs": [],
   "source": [
    "print(y)\n",
    "print(t)"
   ]
  },
  {
   "cell_type": "code",
   "execution_count": null,
   "id": "f79a5357-0cd2-4985-b531-56910ccde473",
   "metadata": {},
   "outputs": [],
   "source": [
    "y=t"
   ]
  },
  {
   "cell_type": "code",
   "execution_count": null,
   "id": "92cc3a3e-2782-4059-9b18-48d916dbb7bb",
   "metadata": {},
   "outputs": [],
   "source": [
    "print(y)\n",
    "print(t)"
   ]
  },
  {
   "cell_type": "code",
   "execution_count": null,
   "id": "e8a9c029-9513-4716-bad1-ca6a20cfe32e",
   "metadata": {},
   "outputs": [],
   "source": [
    "y==t"
   ]
  },
  {
   "cell_type": "code",
   "execution_count": null,
   "id": "8a44a422-50af-45fc-ace4-c127c3332f3a",
   "metadata": {},
   "outputs": [],
   "source": [
    "#datatype"
   ]
  },
  {
   "cell_type": "code",
   "execution_count": null,
   "id": "a1234376-e69c-48ec-8d48-cd3b7f7528b1",
   "metadata": {},
   "outputs": [],
   "source": [
    "int #whole numbers\n",
    "float #it can read both whole and decimal numbers\n",
    "bool #true(1) and false(0)\n",
    "date #date and time\n",
    "str #whatever we mention in '',\"\",\"\"\" \"\"\") \n",
    "to know about datatype we use \"typecast\""
   ]
  },
  {
   "cell_type": "code",
   "execution_count": null,
   "id": "16f245b5-f6ce-42fe-890a-93d7fb31da38",
   "metadata": {},
   "outputs": [],
   "source": [
    "a=\"12345\""
   ]
  },
  {
   "cell_type": "code",
   "execution_count": 28,
   "id": "79b9b739-5d8e-4299-8020-95dc9e50663d",
   "metadata": {},
   "outputs": [
    {
     "data": {
      "text/plain": [
       "int"
      ]
     },
     "execution_count": 28,
     "metadata": {},
     "output_type": "execute_result"
    }
   ],
   "source": [
    "type(a)"
   ]
  },
  {
   "cell_type": "code",
   "execution_count": 20,
   "id": "bef44cc3-9bd9-4120-8bc9-86685a536fc6",
   "metadata": {},
   "outputs": [],
   "source": [
    "a=45\n",
    "b=459.25\n",
    "c= True\n",
    "d= \"hello how are you\""
   ]
  },
  {
   "cell_type": "code",
   "execution_count": 30,
   "id": "c1fd59e2-db9d-466f-ba27-d83ebad9169f",
   "metadata": {},
   "outputs": [
    {
     "name": "stdin",
     "output_type": "stream",
     "text": [
      " 310\n"
     ]
    }
   ],
   "source": [
    "a=float(input())"
   ]
  },
  {
   "cell_type": "code",
   "execution_count": 32,
   "id": "9d132409-3576-4d6e-bad1-d7441e9c6531",
   "metadata": {},
   "outputs": [
    {
     "data": {
      "text/plain": [
       "float"
      ]
     },
     "execution_count": 32,
     "metadata": {},
     "output_type": "execute_result"
    }
   ],
   "source": [
    "type(a)"
   ]
  },
  {
   "cell_type": "code",
   "execution_count": 22,
   "id": "f63f1edc-b901-4c3f-b293-b4d3bfc96a63",
   "metadata": {},
   "outputs": [
    {
     "data": {
      "text/plain": [
       "float"
      ]
     },
     "execution_count": 22,
     "metadata": {},
     "output_type": "execute_result"
    }
   ],
   "source": [
    "type(b)"
   ]
  },
  {
   "cell_type": "code",
   "execution_count": 24,
   "id": "4b96f683-7fd0-453e-a47b-d4bb106af621",
   "metadata": {},
   "outputs": [
    {
     "data": {
      "text/plain": [
       "bool"
      ]
     },
     "execution_count": 24,
     "metadata": {},
     "output_type": "execute_result"
    }
   ],
   "source": [
    "type(c)"
   ]
  },
  {
   "cell_type": "code",
   "execution_count": 26,
   "id": "ffbf3898-00a2-4180-a2b0-8d07f87dc32d",
   "metadata": {},
   "outputs": [
    {
     "data": {
      "text/plain": [
       "str"
      ]
     },
     "execution_count": 26,
     "metadata": {},
     "output_type": "execute_result"
    }
   ],
   "source": [
    "type(d)"
   ]
  },
  {
   "cell_type": "code",
   "execution_count": 14,
   "id": "97dccbfa-1f44-4feb-836b-d717dddc8d40",
   "metadata": {},
   "outputs": [
    {
     "name": "stdout",
     "output_type": "stream",
     "text": [
      "7 hrs 15 min\n"
     ]
    }
   ],
   "source": [
    "a= 435\n",
    "print(\"{} hrs {} min\".format(a//60, a%60))"
   ]
  },
  {
   "cell_type": "code",
   "execution_count": null,
   "id": "69959955-a6a7-4b1a-baf0-dfe11ca7d9fa",
   "metadata": {},
   "outputs": [],
   "source": [
    "min=79000 #days hrs and min\n",
    "sec = 3460510 #days hrs min and sec"
   ]
  },
  {
   "cell_type": "code",
   "execution_count": null,
   "id": "5c23b49e-b68a-4a75-b01f-5282dab45b54",
   "metadata": {},
   "outputs": [],
   "source": [
    "(min//60)%24 # total hours\n",
    "(min//60)//24 or (min//1440) #days\n",
    "min%60 #seconds"
   ]
  },
  {
   "cell_type": "code",
   "execution_count": 38,
   "id": "2785f50c-49c9-47d2-bab5-1bee5df2db10",
   "metadata": {},
   "outputs": [
    {
     "name": "stdin",
     "output_type": "stream",
     "text": [
      " 79000\n"
     ]
    },
    {
     "name": "stdout",
     "output_type": "stream",
     "text": [
      "54.0 days 20.0 hrs and 40.0 min\n"
     ]
    }
   ],
   "source": [
    "min= float(input())\n",
    "print(\"{} days {} hrs and {} min\".format(min//1440, (min//60)%24 , min%60))"
   ]
  },
  {
   "cell_type": "code",
   "execution_count": null,
   "id": "03548f21-84a9-4642-bc14-5b7a4b143903",
   "metadata": {},
   "outputs": [],
   "source": [
    "sec% 60 # seconds\n",
    "(sec//3600)//60 #min\n",
    "(sec%86400)//3600 #hrs [1hrs= 3600 sec]\n",
    "sec//86400 #days [1 day= 86400 sec]"
   ]
  },
  {
   "cell_type": "code",
   "execution_count": 44,
   "id": "e0032de4-b720-4216-9322-a2985202f0c3",
   "metadata": {},
   "outputs": [
    {
     "name": "stdin",
     "output_type": "stream",
     "text": [
      " 3460510\n"
     ]
    },
    {
     "name": "stdout",
     "output_type": "stream",
     "text": [
      "40.0 days 1.0 hrs 15.0 min and 10.0 sec\n"
     ]
    }
   ],
   "source": [
    "sec= float(input())\n",
    "print(\"{} days {} hrs {} min and {} sec\". format(sec//86400, (sec%86400)//3600, (sec%3600)//60, sec%60))"
   ]
  },
  {
   "cell_type": "code",
   "execution_count": 46,
   "id": "0dbd198b-1df6-4229-813b-e5c65cff28fc",
   "metadata": {},
   "outputs": [],
   "source": [
    "#String"
   ]
  },
  {
   "cell_type": "code",
   "execution_count": 54,
   "id": "dce1ebbc-5108-4655-8713-f78208d82d8f",
   "metadata": {},
   "outputs": [],
   "source": [
    "st= \"Hello riyaaa meet me at the shop or mail me @laksh1234.com\""
   ]
  },
  {
   "cell_type": "code",
   "execution_count": 50,
   "id": "21c86cd7-e6ce-4022-99b8-2f62249caa0f",
   "metadata": {},
   "outputs": [
    {
     "data": {
      "text/plain": [
       "str"
      ]
     },
     "execution_count": 50,
     "metadata": {},
     "output_type": "execute_result"
    }
   ],
   "source": [
    "type(st)"
   ]
  },
  {
   "cell_type": "code",
   "execution_count": null,
   "id": "46b374d5-e83a-4afe-9d25-ae6ba0399719",
   "metadata": {},
   "outputs": [],
   "source": [
    "STRING INBUILT FUNCTIONS\n",
    "st.lower() #it will convert uppercase into lower case\n",
    "st.upper() #it will convert whole string to uperr case\n",
    "st.capitalize() #it will convert 1st letter of the string into uperrcase\n",
    "st.title() #it will convert each word 1st letter to uperrcase\n",
    "st.removeprefix() #remove 1st letter or word from the string\n",
    "st.removesuffix() #remove last letter or word from the string\n",
    "len(st) #number of characters and also count the space also\n",
    "st.replace() #\n",
    "st.find() #\n",
    "st.split() #\n",
    "st.lsplit() #\n",
    "st.rsplit() #"
   ]
  },
  {
   "cell_type": "code",
   "execution_count": 62,
   "id": "165b6b24-e302-4d11-b4d6-2c5b55d02a1d",
   "metadata": {},
   "outputs": [
    {
     "data": {
      "text/plain": [
       "'HELLO RIYAAA MEET ME AT THE SHOP OR MAIL ME @LAKSH1234.COM'"
      ]
     },
     "execution_count": 62,
     "metadata": {},
     "output_type": "execute_result"
    }
   ],
   "source": [
    "st.upper()"
   ]
  },
  {
   "cell_type": "code",
   "execution_count": 60,
   "id": "6fea9cbb-16b2-489e-9812-5bcad8088d68",
   "metadata": {},
   "outputs": [
    {
     "data": {
      "text/plain": [
       "'hello riyaaa meet me at the shop or mail me @laksh1234.com'"
      ]
     },
     "execution_count": 60,
     "metadata": {},
     "output_type": "execute_result"
    }
   ],
   "source": [
    "st.lower()"
   ]
  },
  {
   "cell_type": "code",
   "execution_count": 64,
   "id": "e6a11467-ab42-49d5-b8f5-f0f685ce6823",
   "metadata": {},
   "outputs": [
    {
     "data": {
      "text/plain": [
       "'Hello riyaaa meet me at the shop or mail me @laksh1234.com'"
      ]
     },
     "execution_count": 64,
     "metadata": {},
     "output_type": "execute_result"
    }
   ],
   "source": [
    "st.capitalize()"
   ]
  },
  {
   "cell_type": "code",
   "execution_count": 66,
   "id": "57916a92-9dad-4409-9267-0f0ed68066f5",
   "metadata": {},
   "outputs": [
    {
     "data": {
      "text/plain": [
       "'Hello Riyaaa Meet Me At The Shop Or Mail Me @Laksh1234.Com'"
      ]
     },
     "execution_count": 66,
     "metadata": {},
     "output_type": "execute_result"
    }
   ],
   "source": [
    "st.title()"
   ]
  },
  {
   "cell_type": "code",
   "execution_count": 72,
   "id": "161a00c6-ff2f-4f6a-a74b-7e72765c9d9d",
   "metadata": {},
   "outputs": [
    {
     "data": {
      "text/plain": [
       "'ello riyaaa meet me at the shop or mail me @laksh1234.com'"
      ]
     },
     "execution_count": 72,
     "metadata": {},
     "output_type": "execute_result"
    }
   ],
   "source": [
    "st.removeprefix(\"H\")"
   ]
  },
  {
   "cell_type": "code",
   "execution_count": 80,
   "id": "f2f0522a-7917-4c76-941e-6955b14c7cb7",
   "metadata": {},
   "outputs": [
    {
     "data": {
      "text/plain": [
       "'Hello riyaaa meet me at the shop or mail me @laksh1234.co'"
      ]
     },
     "execution_count": 80,
     "metadata": {},
     "output_type": "execute_result"
    }
   ],
   "source": [
    "st.removesuffix(\"m\")"
   ]
  },
  {
   "cell_type": "code",
   "execution_count": 82,
   "id": "60518b05-5af3-42e3-bf4f-3609b6061cd7",
   "metadata": {},
   "outputs": [
    {
     "data": {
      "text/plain": [
       "58"
      ]
     },
     "execution_count": 82,
     "metadata": {},
     "output_type": "execute_result"
    }
   ],
   "source": [
    "len(st)"
   ]
  },
  {
   "cell_type": "code",
   "execution_count": null,
   "id": "4b87bfe2-a5c1-4504-a64b-3b6c63b7670d",
   "metadata": {},
   "outputs": [],
   "source": []
  }
 ],
 "metadata": {
  "kernelspec": {
   "display_name": "Python 3 (ipykernel)",
   "language": "python",
   "name": "python3"
  },
  "language_info": {
   "codemirror_mode": {
    "name": "ipython",
    "version": 3
   },
   "file_extension": ".py",
   "mimetype": "text/x-python",
   "name": "python",
   "nbconvert_exporter": "python",
   "pygments_lexer": "ipython3",
   "version": "3.12.4"
  }
 },
 "nbformat": 4,
 "nbformat_minor": 5
}
