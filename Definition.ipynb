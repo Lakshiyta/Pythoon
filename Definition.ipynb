{
 "cells": [
  {
   "cell_type": "code",
   "execution_count": null,
   "id": "bee42e2f-602b-430b-a426-42a5ece14ebd",
   "metadata": {},
   "outputs": [],
   "source": [
    "Python Rules:\n",
    "1.Python is case sensitive  because Python use UTFB(uniform transformation formation formate)(A,a Both  are different).\n",
    "2.variable can start with character or _only.\n",
    "3.variable can have logical length.\n",
    "4.doesn't use reserved key word as a variable like (with,is,or,else,and)."
   ]
  },
  {
   "cell_type": "code",
   "execution_count": null,
   "id": "8544e4f7-8847-4e5e-ab0b-80807261a12b",
   "metadata": {},
   "outputs": [],
   "source": [
    "Identation: Python uses indentation to indiacte blocks of code.It is crucial for defining the scope of loops,functions,and conditional statements."
   ]
  },
  {
   "cell_type": "code",
   "execution_count": null,
   "id": "991b9426-b3bf-41ae-9003-659589c0f34d",
   "metadata": {},
   "outputs": [],
   "source": [
    "Variables and Naming Conventions:\n",
    "Variables names should be descriptive.\n",
    "Use lowercase with underscores for variables names(snake_case).\n",
    "Avoid using reserved words(e.g,if,else,while,etc.)as variables names."
   ]
  },
  {
   "cell_type": "code",
   "execution_count": null,
   "id": "57e943f9-6774-47b6-ab8d-b2ad3ab9ba5a",
   "metadata": {},
   "outputs": [],
   "source": [
    "Comments: Use # for single-line comments and \"\"\" \"\"\" for multi-line comments."
   ]
  },
  {
   "cell_type": "code",
   "execution_count": null,
   "id": "b8a60a07-e8a5-43cd-afb8-0611215d8e03",
   "metadata": {},
   "outputs": [],
   "source": [
    "Whitespace:Use effectively for better readability. Avoid excessive spaces.\n",
    "eg: A=5#avoid\n",
    "    a=#should follow"
   ]
  },
  {
   "cell_type": "markdown",
   "id": "55d5d371-e659-4f67-8ae8-1d2f335d7516",
   "metadata": {},
   "source": [
    "# Indexing and Slicing"
   ]
  },
  {
   "cell_type": "code",
   "execution_count": null,
   "id": "f674e2d9-275e-480e-a976-4098f304abe3",
   "metadata": {},
   "outputs": [],
   "source": [
    "Indexing refers to accessing individual elements in a sequence using their position (index).In Python,indexing starts at 0.\n",
    "You can use [] to access elements at a specific index."
   ]
  },
  {
   "cell_type": "code",
   "execution_count": null,
   "id": "fc19e4f1-e573-4f33-aab0-093be9935460",
   "metadata": {},
   "outputs": [],
   "source": [
    "Slicing allows you to create a new sequence by extracting a portion of an existing sequence.It uses the format start:stop:step,where start is the \n",
    "index of the first element, stop is the index of the 1st element not to be included, and step is the step size."
   ]
  },
  {
   "cell_type": "markdown",
   "id": "2746ee9b-73b4-48b1-bd27-2fec108340ba",
   "metadata": {},
   "source": [
    "# List"
   ]
  },
  {
   "cell_type": "code",
   "execution_count": null,
   "id": "dbb9e764-0a84-4686-9b44-f9f9c0383409",
   "metadata": {},
   "outputs": [],
   "source": [
    "In Python, a list is a built-in data type used to store a collection of items.List are ordered, mutable(modifiable),and can contain elements of \n",
    "different data types. They are one of the most versatile and commonly used data structures in Python.\n",
    "to find the average of the list, use formula\n",
    "sum(l)/len(l)"
   ]
  },
  {
   "cell_type": "code",
   "execution_count": null,
   "id": "def3df14-9753-41f7-b600-3ae1e8b9bbdd",
   "metadata": {},
   "outputs": [],
   "source": [
    "Hetrogeneous Elements:\n",
    "A list contain elements of different data types,including numbers,strings,booleans,and even other lists.\n",
    "my_list=[5,'world',3.14,True,[9,66,789]]"
   ]
  },
  {
   "cell_type": "code",
   "execution_count": null,
   "id": "9d0d7006-f122-420a-be33-cf9066a9236e",
   "metadata": {},
   "outputs": [],
   "source": [
    "In-Built Functions:-\n",
    "l.append() it will add an element at the end only one value at a time.\n",
    "l.insert(index,element) Inserts an element.\n",
    "l.extend() (iterable) extend the list by appending elements from the iterable, can add multiple values at a time.\n",
    "l.pop() It will remove and returns the element at index.If l is not provided, it removes and returns the last element.\n",
    "l.clear() clear the whole list.\n",
    "l.remove() Removes the first occurence of element x from the list.\n",
    "l.sort() sort the elemensts in ascending order.\n",
    "l.count() Returns the number of occurences of element x in list."
   ]
  },
  {
   "cell_type": "markdown",
   "id": "47c06e61-4e3e-4889-9ece-e4e9055f70ac",
   "metadata": {},
   "source": [
    "# Tuple"
   ]
  },
  {
   "cell_type": "code",
   "execution_count": null,
   "id": "5385cbf7-9b1f-4a0a-a227-cb0bc3413082",
   "metadata": {},
   "outputs": [],
   "source": [
    "A tuple is a data structure in Python that is similar to a list but is immutable,meaning its elements can't be changed after creation. Tuples are \n",
    "defined using parentheses () and can contain in elements of different data types."
   ]
  },
  {
   "cell_type": "code",
   "execution_count": null,
   "id": "1ca9695a-72b3-4966-94f7-ffceb2790c8b",
   "metadata": {},
   "outputs": [],
   "source": [
    "Some In Built Functions:-\n",
    "Count(): Returns the number of occurence of the specified element in the tuple.\n",
    "Len(): Returns the length(no.of elements) in the tuples.\n",
    "Min(): Provide the maximum value from the list.\n",
    "Max(): Provide the maximum value from the list."
   ]
  },
  {
   "cell_type": "markdown",
   "id": "fc63348c-f161-4e3c-b6e4-2c91032c202f",
   "metadata": {},
   "source": [
    "# Set"
   ]
  },
  {
   "cell_type": "code",
   "execution_count": null,
   "id": "435d87ca-3715-4fb2-b665-35a67fe29cca",
   "metadata": {},
   "outputs": [],
   "source": [
    "In Python, a set is an unordered collection of unique elements. It is defined using {} or the set () constructor. Sets do not allow duplicate \n",
    "elements, and they are useful for tasks  that involve testing membership and eliminating duplicate entries."
   ]
  },
  {
   "cell_type": "code",
   "execution_count": null,
   "id": "8a206b7b-1f3e-4e64-986b-d428971a389e",
   "metadata": {},
   "outputs": [],
   "source": [
    "In Build Function:\n",
    "-->Union: In Python, the union operation on sets is used to combine the elements of two or more sets into new set. The resulting set contains all \n",
    "unique elements present in any of the original sets, and duplicate elements are automatically eliminated.\n",
    "-->Intersection: The intersection operation on sets is used to find the common elements between two or more sets.The resulting set contains only the \n",
    "elements that are present in all of the original sets.\n",
    "-->Difference: The difference operation on sets is used to find the elements that are present in one set but not in another.It computes the set of \n",
    "elements that are unique to the first set, excluding any elements that are also present in the second set.\n",
    "-->Symmetric Difference: The symmetric difference on sets is used to find the elements that are present in either of the sets but not in both, it \n",
    "computers the set of elements that are unique to each set,excluding any elements that are common to both sets."
   ]
  },
  {
   "cell_type": "markdown",
   "id": "d2d2d1fb-1def-4371-8069-fbf092200e33",
   "metadata": {},
   "source": [
    "# Dictionary"
   ]
  },
  {
   "cell_type": "code",
   "execution_count": null,
   "id": "bb8be6a9-8f3e-41e9-ad91-a8c3d5a29be9",
   "metadata": {},
   "outputs": [],
   "source": [
    "In Python, a dictionary is mutable, unordered till 3.7 now it is ordered collection of key-value pairs, where each key must be unique. Dictionaries\n",
    "are implemented as hash tables, providing fast access to values based on thier keys. You can use dictionaries to store and retrieve data \n",
    "efficiently."
   ]
  },
  {
   "cell_type": "markdown",
   "id": "e7ba5aa6-0e52-439a-8d30-f88fc418205a",
   "metadata": {},
   "source": [
    "# Define Function"
   ]
  },
  {
   "cell_type": "code",
   "execution_count": null,
   "id": "5d8c36c0-11d9-4725-ac1b-74defa70fe60",
   "metadata": {},
   "outputs": [],
   "source": [
    "A defined function is a block of reusable code that performs a specific task.\n",
    "It is like having a mini-program within your larger program.\n",
    "\n",
    "Function Name:\n",
    "-------------\n",
    "This is the name you give to your function.It should be descriptive and indicative of what the function does.\n",
    "\n",
    "Parameters(or Arguments):\n",
    "-------------------------\n",
    "These are optional inputs that you can pass into the function.\n",
    "They act as placeholders for the values you want to work with inside the function.\n",
    "\n",
    "Funtion Body:\n",
    "-------------\n",
    "This is where you write the actual code that performs the task you want the function to do. It can be as simple or as complete as you need it to be.\n",
    "\n",
    "Return Statement:\n",
    "-----------------\n",
    "This is optional.If your function needs to produce an output, you use the return statement to specify what value the function should return when it \n",
    "is called."
   ]
  }
 ],
 "metadata": {
  "kernelspec": {
   "display_name": "Python 3 (ipykernel)",
   "language": "python",
   "name": "python3"
  },
  "language_info": {
   "codemirror_mode": {
    "name": "ipython",
    "version": 3
   },
   "file_extension": ".py",
   "mimetype": "text/x-python",
   "name": "python",
   "nbconvert_exporter": "python",
   "pygments_lexer": "ipython3",
   "version": "3.12.4"
  }
 },
 "nbformat": 4,
 "nbformat_minor": 5
}
