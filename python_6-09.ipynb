{
 "cells": [
  {
   "cell_type": "markdown",
   "id": "d9e73a16-fa6c-4642-bcf1-86c01294774c",
   "metadata": {},
   "source": [
    "# Conditional Statemnet"
   ]
  },
  {
   "cell_type": "code",
   "execution_count": null,
   "id": "252e312e-06fd-4eed-bdcd-54298e27d168",
   "metadata": {},
   "outputs": [],
   "source": [
    "#check if x is [int,float,string,or bool]\n",
    "x=\"aw1\""
   ]
  },
  {
   "cell_type": "code",
   "execution_count": 3,
   "id": "46a80000-bf36-46ba-8816-decc25c243bc",
   "metadata": {},
   "outputs": [
    {
     "name": "stdout",
     "output_type": "stream",
     "text": [
      "x is string\n"
     ]
    }
   ],
   "source": [
    "x=\"aw1\"\n",
    "if type(x)==str:\n",
    "    print(\"x is string\")\n",
    "elif type(x)==int:\n",
    "    print(\"x is int\")\n",
    "elif type(x)==float:\n",
    "    print(\"x is float\")\n",
    "else:\n",
    "    print(\"x is bool\")"
   ]
  },
  {
   "cell_type": "code",
   "execution_count": null,
   "id": "0802ed1e-0ebc-401f-9160-749a08bacae3",
   "metadata": {},
   "outputs": [],
   "source": [
    "#check if there is \"a\" in the string or not"
   ]
  },
  {
   "cell_type": "code",
   "execution_count": 19,
   "id": "3bd448ea-9cc8-413c-87d7-3408b12d59e4",
   "metadata": {},
   "outputs": [
    {
     "name": "stdin",
     "output_type": "stream",
     "text": [
      "Enter the string ajffjddnza\n"
     ]
    },
    {
     "name": "stdout",
     "output_type": "stream",
     "text": [
      "String has a in the string\n"
     ]
    }
   ],
   "source": [
    "x= input(\"Enter the string\")\n",
    "if \"a\" in x:\n",
    "    print(\"String has a in the string\")\n",
    "else:\n",
    "    print(\"String doesn't have a in the string\")"
   ]
  },
  {
   "cell_type": "code",
   "execution_count": null,
   "id": "6284e795-2c5d-4efc-800a-8b664c6adf23",
   "metadata": {},
   "outputs": [],
   "source": [
    "#if x is int or float so x is divided by 5 or not\n",
    "#if x is string so check is there any \"f\" in that string or not"
   ]
  },
  {
   "cell_type": "code",
   "execution_count": 35,
   "id": "efb50153-b733-4cae-b1db-2eb967b879c7",
   "metadata": {},
   "outputs": [
    {
     "name": "stdout",
     "output_type": "stream",
     "text": [
      "True x is divided by 5\n"
     ]
    }
   ],
   "source": [
    "x = 5\n",
    "if type(x)==int:\n",
    "    print(x%5==0,\"x is divided by 5\")\n",
    "elif type(x)==float:\n",
    "    print(x%5==0,\"x is divided by 5\")\n",
    "else:\n",
    "    y= \"f\" in x\n",
    "    print(y,\"f is in string\")"
   ]
  },
  {
   "cell_type": "code",
   "execution_count": 45,
   "id": "cce31a86-225b-4fd1-be6b-93e026b67ec2",
   "metadata": {},
   "outputs": [
    {
     "name": "stdout",
     "output_type": "stream",
     "text": [
      "x is int or float and divided by 5\n"
     ]
    }
   ],
   "source": [
    "x= 30.0\n",
    "if type(x)==int and x%5==0 or type(x)==float and x%5==0:\n",
    "    print(\"x is int or float and divided by 5\")\n",
    "elif type(x)==int and x%5!=0 or type(x)==float and x%5!=0:\n",
    "    print(\"x is int or float but not divided by 5\")\n",
    "elif type(x)==str and \"f\" in x:\n",
    "    print(\"x is string and there is a f\")\n",
    "elif type(x)==str and \"f\" not in x:\n",
    "    print(\"x is string but f is not in x\")"
   ]
  },
  {
   "cell_type": "code",
   "execution_count": null,
   "id": "47043284-b47b-42cd-aa40-2781548f8d26",
   "metadata": {},
   "outputs": [],
   "source": [
    "#check if the number of letters is more than 5 or not"
   ]
  },
  {
   "cell_type": "code",
   "execution_count": 2,
   "id": "37813d46-9be1-48f1-8c39-da677be5d317",
   "metadata": {},
   "outputs": [
    {
     "name": "stdin",
     "output_type": "stream",
     "text": [
      "Enter the string hellooo\n"
     ]
    },
    {
     "name": "stdout",
     "output_type": "stream",
     "text": [
      "length is more than or equal to 5\n"
     ]
    }
   ],
   "source": [
    "x=input(\"Enter the string\")\n",
    "if len(x)>=5:\n",
    "    print(\"length is more than or equal to 5\")\n",
    "else:\n",
    "    print(\"length in string is not 5\")"
   ]
  },
  {
   "cell_type": "code",
   "execution_count": null,
   "id": "1209e15c-4e68-451b-942e-2b306f0dbb4e",
   "metadata": {},
   "outputs": [],
   "source": [
    "#check if the 1st letter of the string is capital or not"
   ]
  },
  {
   "cell_type": "code",
   "execution_count": 69,
   "id": "9f2055d4-062d-4df5-89ee-4967031439d1",
   "metadata": {},
   "outputs": [
    {
     "name": "stdout",
     "output_type": "stream",
     "text": [
      "YES, 1st letter is in upper\n"
     ]
    }
   ],
   "source": [
    "st=\"Hii\"\n",
    "if st[0] and st.upper:\n",
    "    print(\"YES, 1st letter is in upper\")\n",
    "else:\n",
    "    print(\"No, 1st letter is not in upper\")"
   ]
  },
  {
   "cell_type": "code",
   "execution_count": 71,
   "id": "a6b22f71-311c-4c19-be62-0fcb453cd499",
   "metadata": {},
   "outputs": [
    {
     "name": "stdin",
     "output_type": "stream",
     "text": [
      "Enter the string hyyee\n"
     ]
    },
    {
     "name": "stdout",
     "output_type": "stream",
     "text": [
      "no, it is not in upper\n"
     ]
    }
   ],
   "source": [
    "x=input(\"Enter the string\")\n",
    "if x[0].isupper():\n",
    "    print(\"yes,it is in upper\")\n",
    "else:\n",
    "    print(\"no, it is not in upper\")"
   ]
  },
  {
   "cell_type": "code",
   "execution_count": null,
   "id": "aca1f536-b41d-429a-b1de-8f8151d0531d",
   "metadata": {},
   "outputs": [],
   "source": [
    "#check if string is text or numerical"
   ]
  },
  {
   "cell_type": "code",
   "execution_count": 4,
   "id": "eb62db81-3c5d-47e9-a368-1b9c42301c45",
   "metadata": {},
   "outputs": [
    {
     "name": "stdout",
     "output_type": "stream",
     "text": [
      "it is in numerical\n"
     ]
    }
   ],
   "source": [
    "x = \"dfdf\"\n",
    "if \"0\" in x or \"1\" in x or \"2\" in x or \"3\" in x or \"4\" in x or \"5\" in x or \"6\" in x or \"7\" in x or \"8\" in x or \"9\" in x:\n",
    "    print(\"it is in text\")\n",
    "else:\n",
    "    print(\"it is in numerical\")"
   ]
  },
  {
   "cell_type": "code",
   "execution_count": 99,
   "id": "44823ed4-29a6-4701-9820-81d80b19cbca",
   "metadata": {},
   "outputs": [
    {
     "name": "stdin",
     "output_type": "stream",
     "text": [
      "Enter the string 32123\n"
     ]
    },
    {
     "name": "stdout",
     "output_type": "stream",
     "text": [
      "yes\n"
     ]
    }
   ],
   "source": [
    "x=input(\"Enter the string\")\n",
    "if x.isnumeric():\n",
    "    print(\"yes\")\n",
    "else:\n",
    "    print(\"no\")"
   ]
  },
  {
   "cell_type": "code",
   "execution_count": null,
   "id": "d08ad194-3a4f-4190-a66c-e3a27622b9ad",
   "metadata": {},
   "outputs": [],
   "source": [
    "#check if the string starts with a and ends with r"
   ]
  },
  {
   "cell_type": "code",
   "execution_count": 10,
   "id": "d5af759c-cc41-4e10-8e7f-c6d3ebfd704d",
   "metadata": {},
   "outputs": [
    {
     "name": "stdout",
     "output_type": "stream",
     "text": [
      "the string start with a and ends with r\n"
     ]
    }
   ],
   "source": [
    "x=\"aendsr\"\n",
    "if x[0]== \"a\" and x[5]==\"r\":\n",
    "    print(\"the string start with a and ends with r\")\n",
    "else:\n",
    "    print(\"the string not start with a and ends with r\")"
   ]
  },
  {
   "cell_type": "code",
   "execution_count": null,
   "id": "b87b627f-8124-4788-93c8-1c29fc261992",
   "metadata": {},
   "outputs": [],
   "source": [
    "#check if x is divided by both 2 and 3"
   ]
  },
  {
   "cell_type": "code",
   "execution_count": 3,
   "id": "a14c2d09-469f-4ecf-acca-f148f5489d2b",
   "metadata": {},
   "outputs": [
    {
     "name": "stdout",
     "output_type": "stream",
     "text": [
      "x is divided by both 2 and 3\n"
     ]
    }
   ],
   "source": [
    "x=234\n",
    "if x%2==0 and x%3==0:\n",
    "    print(\"x is divided by both 2 and 3\")\n",
    "else:\n",
    "    print(\"x is not divided by 2 and 3\")"
   ]
  },
  {
   "cell_type": "code",
   "execution_count": 5,
   "id": "0021c867-9b67-4f7d-aa27-58be7f1433b4",
   "metadata": {},
   "outputs": [
    {
     "name": "stdin",
     "output_type": "stream",
     "text": [
      "Enter the number 246\n"
     ]
    },
    {
     "name": "stdout",
     "output_type": "stream",
     "text": [
      "Yes\n"
     ]
    }
   ],
   "source": [
    "x=float(input(\"Enter the number\"))\n",
    "if x%6==0:\n",
    "    print(\"Yes\")\n",
    "else:\n",
    "    print(\"NO\")"
   ]
  },
  {
   "cell_type": "code",
   "execution_count": null,
   "id": "cebdf704-c32d-42a2-97dc-b77c6717c2ce",
   "metadata": {},
   "outputs": [],
   "source": []
  }
 ],
 "metadata": {
  "kernelspec": {
   "display_name": "Python 3 (ipykernel)",
   "language": "python",
   "name": "python3"
  },
  "language_info": {
   "codemirror_mode": {
    "name": "ipython",
    "version": 3
   },
   "file_extension": ".py",
   "mimetype": "text/x-python",
   "name": "python",
   "nbconvert_exporter": "python",
   "pygments_lexer": "ipython3",
   "version": "3.12.4"
  }
 },
 "nbformat": 4,
 "nbformat_minor": 5
}
