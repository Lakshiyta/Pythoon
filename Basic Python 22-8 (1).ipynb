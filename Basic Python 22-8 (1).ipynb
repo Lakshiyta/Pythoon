{
 "cells": [
  {
   "cell_type": "code",
   "execution_count": 1,
   "id": "2fbcc3a3-e143-4418-87df-63e1e8e53cd7",
   "metadata": {},
   "outputs": [
    {
     "data": {
      "text/plain": [
       "8"
      ]
     },
     "execution_count": 1,
     "metadata": {},
     "output_type": "execute_result"
    }
   ],
   "source": [
    " 4+4  "
   ]
  },
  {
   "cell_type": "code",
   "execution_count": 3,
   "id": "1ac5be47-aaca-4b70-b1ba-d6bc44ed7770",
   "metadata": {},
   "outputs": [
    {
     "data": {
      "text/plain": [
       "9.75"
      ]
     },
     "execution_count": 3,
     "metadata": {},
     "output_type": "execute_result"
    }
   ],
   "source": [
    "78/8"
   ]
  },
  {
   "cell_type": "code",
   "execution_count": 9,
   "id": "a8330a77-e43f-48f5-9a6b-fe2f424d6dd3",
   "metadata": {},
   "outputs": [
    {
     "data": {
      "text/plain": [
       "1"
      ]
     },
     "execution_count": 9,
     "metadata": {},
     "output_type": "execute_result"
    }
   ],
   "source": [
    "82%9"
   ]
  },
  {
   "cell_type": "code",
   "execution_count": 11,
   "id": "6c4691a3-2685-4dc7-9240-413f43eb19db",
   "metadata": {},
   "outputs": [
    {
     "data": {
      "text/plain": [
       "-2"
      ]
     },
     "execution_count": 11,
     "metadata": {},
     "output_type": "execute_result"
    }
   ],
   "source": [
    "10%-3"
   ]
  },
  {
   "cell_type": "code",
   "execution_count": 13,
   "id": "5df2d70e-83d0-41cf-b59e-d36d006fb89e",
   "metadata": {},
   "outputs": [
    {
     "data": {
      "text/plain": [
       "64"
      ]
     },
     "execution_count": 13,
     "metadata": {},
     "output_type": "execute_result"
    }
   ],
   "source": [
    "8**2"
   ]
  },
  {
   "cell_type": "code",
   "execution_count": 15,
   "id": "17409403-7630-411a-b524-15df0df02c5a",
   "metadata": {},
   "outputs": [
    {
     "data": {
      "text/plain": [
       "2.8284271247461903"
      ]
     },
     "execution_count": 15,
     "metadata": {},
     "output_type": "execute_result"
    }
   ],
   "source": [
    "8**(.5)"
   ]
  },
  {
   "cell_type": "code",
   "execution_count": 17,
   "id": "3f0b0c9d-ebec-4933-add8-5cf437c04e49",
   "metadata": {},
   "outputs": [
    {
     "data": {
      "text/plain": [
       "729"
      ]
     },
     "execution_count": 17,
     "metadata": {},
     "output_type": "execute_result"
    }
   ],
   "source": [
    "9**3"
   ]
  },
  {
   "cell_type": "code",
   "execution_count": 29,
   "id": "56618e6d-b269-41b8-9080-d2d9b340ec9d",
   "metadata": {},
   "outputs": [
    {
     "name": "stdout",
     "output_type": "stream",
     "text": [
      "14\n"
     ]
    }
   ],
   "source": [
    "print(6+8)"
   ]
  },
  {
   "cell_type": "code",
   "execution_count": 21,
   "id": "93971348-2a1b-478b-b742-0bb47cec7758",
   "metadata": {},
   "outputs": [
    {
     "name": "stdout",
     "output_type": "stream",
     "text": [
      "sum of 5 and 5 is 10\n"
     ]
    }
   ],
   "source": [
    "print(\"sum of 5 and 5 is\", 5+5)"
   ]
  },
  {
   "cell_type": "code",
   "execution_count": 23,
   "id": "6ecd8bf0-b512-405a-8ce3-53e814a4ee06",
   "metadata": {},
   "outputs": [
    {
     "name": "stdout",
     "output_type": "stream",
     "text": [
      "sum of 4 and 6 is 10\n"
     ]
    }
   ],
   "source": [
    "print(\"sum of {} and {} is {}\".format(4,6,4+6))"
   ]
  },
  {
   "cell_type": "code",
   "execution_count": 25,
   "id": "8423f6d3-a555-4e6a-b225-a883a3aa4447",
   "metadata": {},
   "outputs": [
    {
     "data": {
      "text/plain": [
       "4"
      ]
     },
     "execution_count": 25,
     "metadata": {},
     "output_type": "execute_result"
    }
   ],
   "source": [
    "round(4.362)"
   ]
  },
  {
   "cell_type": "code",
   "execution_count": 27,
   "id": "0bc222a3-e18a-4e6f-9027-8241abd94fa7",
   "metadata": {},
   "outputs": [
    {
     "data": {
      "text/plain": [
       "45.366"
      ]
     },
     "execution_count": 27,
     "metadata": {},
     "output_type": "execute_result"
    }
   ],
   "source": [
    "round(45.36589545,3)"
   ]
  },
  {
   "cell_type": "code",
   "execution_count": 33,
   "id": "8aca6703-f5c1-4944-8827-70d71a7225b4",
   "metadata": {},
   "outputs": [
    {
     "name": "stdout",
     "output_type": "stream",
     "text": [
      "sqrt of 5 is 2.24\n"
     ]
    }
   ],
   "source": [
    "print(\"sqrt of {} is {}\".format(5,round(5**(1/2),2)))"
   ]
  },
  {
   "cell_type": "code",
   "execution_count": 61,
   "id": "e2265883-7e69-4fe3-9b84-0cda25634e08",
   "metadata": {},
   "outputs": [
    {
     "name": "stdout",
     "output_type": "stream",
     "text": [
      "3 hours and 5 min\n"
     ]
    }
   ],
   "source": [
    "print(\"{} hours and {} min\".format(185//60,185%60))"
   ]
  },
  {
   "cell_type": "code",
   "execution_count": 65,
   "id": "442bf62c-220d-4a9c-baf6-4e837b7ed1dd",
   "metadata": {},
   "outputs": [
    {
     "name": "stdout",
     "output_type": "stream",
     "text": [
      "10 days 6 hours and 25 min\n"
     ]
    }
   ],
   "source": [
    "print(\"{} days {} hours and {} min\".format((14785//60)//24, (14785//60)%24, 14785%60))"
   ]
  },
  {
   "cell_type": "code",
   "execution_count": 99,
   "id": "60cfbf97-8960-4521-a26c-197e8443cdba",
   "metadata": {},
   "outputs": [
    {
     "name": "stdout",
     "output_type": "stream",
     "text": [
      "519 days 21 hours and 12 min\n"
     ]
    }
   ],
   "source": [
    "print(\"{} days {} hours and {} min\". format(748632//1440, (748632%1440)//60, 748632%60))"
   ]
  },
  {
   "cell_type": "code",
   "execution_count": 97,
   "id": "d034e111-b68e-4f89-98f9-e9238d87d899",
   "metadata": {},
   "outputs": [
    {
     "name": "stdout",
     "output_type": "stream",
     "text": [
      "1994 days and 3 hours\n"
     ]
    }
   ],
   "source": [
    "print(\"{} days and {} hours\". format(47859//24, 47859%24))"
   ]
  },
  {
   "cell_type": "code",
   "execution_count": 101,
   "id": "ffe0960f-a4a7-4ae2-be8c-80fb4ac4e088",
   "metadata": {},
   "outputs": [
    {
     "name": "stdout",
     "output_type": "stream",
     "text": [
      "171 days 2 hours 48 min and 43 sec\n"
     ]
    }
   ],
   "source": [
    "print(\"{} days {} hours {} min and {} sec\".format(14784523//86400, (14784523%86400)//3600, (14784523%3600)//60, 14784523%60))"
   ]
  },
  {
   "cell_type": "code",
   "execution_count": 105,
   "id": "12d911db-bd8b-479d-ad56-4b48c5bb1b4f",
   "metadata": {},
   "outputs": [],
   "source": [
    "o = 80\n",
    "p = 90"
   ]
  },
  {
   "cell_type": "code",
   "execution_count": 107,
   "id": "2a8c79a6-5853-46fc-97a1-ecd3a93c4477",
   "metadata": {},
   "outputs": [
    {
     "name": "stdout",
     "output_type": "stream",
     "text": [
      "170\n"
     ]
    }
   ],
   "source": [
    "print(o+p)"
   ]
  },
  {
   "cell_type": "code",
   "execution_count": 113,
   "id": "5dddb887-f4f3-4c42-959f-a36770d9d9f6",
   "metadata": {},
   "outputs": [
    {
     "name": "stdout",
     "output_type": "stream",
     "text": [
      "3 hours and 5 min\n"
     ]
    }
   ],
   "source": [
    "m=185\n",
    "hrs= m//60\n",
    "mi = 185%60\n",
    "print(\"{} hours and {} min\". format(hrs,mi))"
   ]
  },
  {
   "cell_type": "code",
   "execution_count": 123,
   "id": "b043fc44-1448-49c4-b2f0-79c6a69904a0",
   "metadata": {},
   "outputs": [
    {
     "name": "stdout",
     "output_type": "stream",
     "text": [
      "141913282 years 10 months 0 days 3 hours and 32 min\n"
     ]
    }
   ],
   "source": [
    "minu = 74589621458612\n",
    "years = minu// 525600\n",
    "months = (minu % 525600) //43800\n",
    "days = (minu%43800)//1440\n",
    "hours = (minu%1440)//60\n",
    "mins = minu%60\n",
    "print(\"{} years {} months {} days {} hours and {} min\". format(years, months, days, hours, mins))"
   ]
  },
  {
   "cell_type": "code",
   "execution_count": null,
   "id": "4112f4c8-b1e4-4612-9de8-8fb9401e7e98",
   "metadata": {},
   "outputs": [],
   "source": []
  }
 ],
 "metadata": {
  "kernelspec": {
   "display_name": "Python 3 (ipykernel)",
   "language": "python",
   "name": "python3"
  },
  "language_info": {
   "codemirror_mode": {
    "name": "ipython",
    "version": 3
   },
   "file_extension": ".py",
   "mimetype": "text/x-python",
   "name": "python",
   "nbconvert_exporter": "python",
   "pygments_lexer": "ipython3",
   "version": "3.12.4"
  }
 },
 "nbformat": 4,
 "nbformat_minor": 5
}
