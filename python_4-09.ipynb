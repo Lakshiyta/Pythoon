{
 "cells": [
  {
   "cell_type": "markdown",
   "id": "81133359-6063-45dd-8710-d7aadac10408",
   "metadata": {},
   "source": [
    "# Tuple"
   ]
  },
  {
   "cell_type": "code",
   "execution_count": null,
   "id": "9ba9eb90-b86d-4cfd-9cf7-f4a7afaa64e2",
   "metadata": {},
   "outputs": [],
   "source": [
    "It is an ordered collection of elements which can store all types of data but it is immutable.\n",
    "t=()\n",
    "type(t)\n",
    "the output will be Tuple"
   ]
  },
  {
   "cell_type": "code",
   "execution_count": 3,
   "id": "9df5a01b-2326-4893-9348-a44b1e412744",
   "metadata": {},
   "outputs": [],
   "source": [
    "t=(1,4,5,\"hello\", True)"
   ]
  },
  {
   "cell_type": "code",
   "execution_count": 5,
   "id": "c4cb4327-25c9-48e3-bc47-dba0c5c722c6",
   "metadata": {},
   "outputs": [
    {
     "data": {
      "text/plain": [
       "(1, 4, 5, 'hello', True)"
      ]
     },
     "execution_count": 5,
     "metadata": {},
     "output_type": "execute_result"
    }
   ],
   "source": [
    "t"
   ]
  },
  {
   "cell_type": "code",
   "execution_count": 7,
   "id": "02daaf12-4ccb-4aec-b031-0934be54b640",
   "metadata": {},
   "outputs": [
    {
     "data": {
      "text/plain": [
       "(1, 4, 5)"
      ]
     },
     "execution_count": 7,
     "metadata": {},
     "output_type": "execute_result"
    }
   ],
   "source": [
    "t[0:3]"
   ]
  },
  {
   "cell_type": "code",
   "execution_count": 9,
   "id": "9b845fa9-c007-49e7-9014-97257271ba9c",
   "metadata": {},
   "outputs": [
    {
     "data": {
      "text/plain": [
       "2"
      ]
     },
     "execution_count": 9,
     "metadata": {},
     "output_type": "execute_result"
    }
   ],
   "source": [
    "t=(4,7,9,78,45,2)\n",
    "min(t)"
   ]
  },
  {
   "cell_type": "code",
   "execution_count": 11,
   "id": "b62136a1-20cb-4345-9e0e-a4684a4494b0",
   "metadata": {},
   "outputs": [
    {
     "data": {
      "text/plain": [
       "6"
      ]
     },
     "execution_count": 11,
     "metadata": {},
     "output_type": "execute_result"
    }
   ],
   "source": [
    "len(t)"
   ]
  },
  {
   "cell_type": "code",
   "execution_count": 13,
   "id": "4cc434cc-2ac5-4094-93a8-ca9863d5beda",
   "metadata": {},
   "outputs": [
    {
     "data": {
      "text/plain": [
       "78"
      ]
     },
     "execution_count": 13,
     "metadata": {},
     "output_type": "execute_result"
    }
   ],
   "source": [
    "max(t)"
   ]
  },
  {
   "cell_type": "markdown",
   "id": "e945b58f-9d5a-4bb3-afda-ff4d82008ece",
   "metadata": {},
   "source": [
    "# Set"
   ]
  },
  {
   "cell_type": "code",
   "execution_count": null,
   "id": "95e9ce2e-2fe2-4beb-86e2-73a2e998eddd",
   "metadata": {},
   "outputs": [],
   "source": [
    "It is an unordered collection of unique elements which does not contain duplicate elements and there is no indexing and slicing.\n",
    "Also, curly braces will be used.\n",
    "s = set()\n",
    "type(s)\n",
    "the output will be Set"
   ]
  },
  {
   "cell_type": "code",
   "execution_count": null,
   "id": "30d3103a-a6b7-4fe8-aa7e-4297370a6d6b",
   "metadata": {},
   "outputs": [],
   "source": [
    "s.pop #will delete random values\n",
    "q1.difference(q2) #it will print left side's unique element\n",
    "q1.symmetric_difference(q2) #it will print unique elements from both set\n",
    "q1.intersection(q2) #it will print common elements from both sides\n",
    "q1.union(q2) #it will print the elements by merging both the sets\n",
    "q1.remove(element) #it will remove given element\n",
    "q1.update(q2) #it will update left set with all elements of right set"
   ]
  },
  {
   "cell_type": "code",
   "execution_count": 23,
   "id": "6f452033-f1d1-4ed7-8a33-ea152e6d95d1",
   "metadata": {},
   "outputs": [],
   "source": [
    "s={8,7,9,6,3,6,5,8,9,5,6,0,1,2}"
   ]
  },
  {
   "cell_type": "code",
   "execution_count": 17,
   "id": "b8dea1b1-01b7-4352-a32b-1042079c8ca8",
   "metadata": {},
   "outputs": [
    {
     "data": {
      "text/plain": [
       "{0, 1, 2, 3, 5, 6, 7, 8, 9}"
      ]
     },
     "execution_count": 17,
     "metadata": {},
     "output_type": "execute_result"
    }
   ],
   "source": [
    "s"
   ]
  },
  {
   "cell_type": "code",
   "execution_count": 29,
   "id": "f528b7b7-d443-4709-8f66-f4f3ff1b777e",
   "metadata": {},
   "outputs": [
    {
     "data": {
      "text/plain": [
       "2"
      ]
     },
     "execution_count": 29,
     "metadata": {},
     "output_type": "execute_result"
    }
   ],
   "source": [
    "s.pop()"
   ]
  },
  {
   "cell_type": "code",
   "execution_count": 31,
   "id": "469b914d-ca8e-4779-8de1-136be57f9e1e",
   "metadata": {},
   "outputs": [],
   "source": [
    "q1={1,2,3,4,5,6,7,800,900,6500}\n",
    "q2={11,22,33,4,5,6,800,4500,6800}"
   ]
  },
  {
   "cell_type": "code",
   "execution_count": 33,
   "id": "ba8e0e3c-8ff5-45de-b9ca-bde97f9f0634",
   "metadata": {},
   "outputs": [
    {
     "data": {
      "text/plain": [
       "{1, 2, 3, 7, 900, 6500}"
      ]
     },
     "execution_count": 33,
     "metadata": {},
     "output_type": "execute_result"
    }
   ],
   "source": [
    "q1.difference(q2)"
   ]
  },
  {
   "cell_type": "code",
   "execution_count": 35,
   "id": "284db204-3d07-4afd-b083-e9e2a19e7fa0",
   "metadata": {},
   "outputs": [
    {
     "data": {
      "text/plain": [
       "{1, 2, 3, 7, 11, 22, 33, 900, 4500, 6500, 6800}"
      ]
     },
     "execution_count": 35,
     "metadata": {},
     "output_type": "execute_result"
    }
   ],
   "source": [
    "q1.symmetric_difference(q2)"
   ]
  },
  {
   "cell_type": "code",
   "execution_count": 37,
   "id": "91337ca0-cce3-4b64-995f-2598c17d4b34",
   "metadata": {},
   "outputs": [
    {
     "data": {
      "text/plain": [
       "{4, 5, 6, 800}"
      ]
     },
     "execution_count": 37,
     "metadata": {},
     "output_type": "execute_result"
    }
   ],
   "source": [
    "q1.intersection(q2)"
   ]
  },
  {
   "cell_type": "code",
   "execution_count": 39,
   "id": "d0d4d74d-ec94-4aba-a3d7-d9da7918da14",
   "metadata": {},
   "outputs": [
    {
     "data": {
      "text/plain": [
       "{1, 2, 3, 4, 5, 6, 7, 11, 22, 33, 800, 900, 4500, 6500, 6800}"
      ]
     },
     "execution_count": 39,
     "metadata": {},
     "output_type": "execute_result"
    }
   ],
   "source": [
    "q1.union(q2)"
   ]
  },
  {
   "cell_type": "code",
   "execution_count": 41,
   "id": "d908133e-bd55-4bfe-94c2-e5738740336f",
   "metadata": {},
   "outputs": [],
   "source": [
    "q1.remove(1)"
   ]
  },
  {
   "cell_type": "code",
   "execution_count": 43,
   "id": "ca773299-7dbb-4723-9669-389d0ab4d501",
   "metadata": {},
   "outputs": [
    {
     "data": {
      "text/plain": [
       "{2, 3, 4, 5, 6, 7, 800, 900, 6500}"
      ]
     },
     "execution_count": 43,
     "metadata": {},
     "output_type": "execute_result"
    }
   ],
   "source": [
    "q1"
   ]
  },
  {
   "cell_type": "code",
   "execution_count": 45,
   "id": "d350f522-3156-44a8-bcf3-7056c0178e3d",
   "metadata": {},
   "outputs": [],
   "source": [
    "q1.update(q2)"
   ]
  },
  {
   "cell_type": "code",
   "execution_count": 47,
   "id": "af342ce4-34d8-4ac4-a8c9-19ac8c1d7fa9",
   "metadata": {},
   "outputs": [
    {
     "data": {
      "text/plain": [
       "{2, 3, 4, 5, 6, 7, 11, 22, 33, 800, 900, 4500, 6500, 6800}"
      ]
     },
     "execution_count": 47,
     "metadata": {},
     "output_type": "execute_result"
    }
   ],
   "source": [
    "q1"
   ]
  },
  {
   "cell_type": "markdown",
   "id": "4532f111-53b6-4ce1-a864-3b6b63790c27",
   "metadata": {},
   "source": [
    "# Dictionary"
   ]
  },
  {
   "cell_type": "code",
   "execution_count": null,
   "id": "d6f2bf61-1086-4068-9f08-6f000cd36285",
   "metadata": {},
   "outputs": [],
   "source": [
    "It is a pair of keys and values.Also, it will be written in curly braces.\n",
    "There are two types of dict:\n",
    "1. Mutable\n",
    "2. Immutable"
   ]
  },
  {
   "cell_type": "code",
   "execution_count": null,
   "id": "23cf1258-2c01-49d8-aad5-e514d4cdc366",
   "metadata": {},
   "outputs": [],
   "source": [
    "d={\"name\":[\"a\",\"b\",\"c\",\"d\"],\n",
    "   \"ID\":[1001,1002,1003,1004]} #Mutable dict\n",
    "d1={\"name\":(\"a\",\"b\",\"c\",\"d\"),\n",
    "    \"ID\":(1001,1002,1003,1004)} #Immutable dict/can't make any change"
   ]
  },
  {
   "cell_type": "code",
   "execution_count": null,
   "id": "b99eb0cb-90a7-4c33-bcd3-b6f210f9ea81",
   "metadata": {},
   "outputs": [],
   "source": [
    "d.keys() #print name of all keys of the dict\n",
    "d.values() #print all values of the dict"
   ]
  },
  {
   "cell_type": "code",
   "execution_count": 49,
   "id": "985879e6-ee77-449d-a458-cb79e16ae569",
   "metadata": {},
   "outputs": [
    {
     "data": {
      "text/plain": [
       "dict"
      ]
     },
     "execution_count": 49,
     "metadata": {},
     "output_type": "execute_result"
    }
   ],
   "source": [
    "d={}\n",
    "type(d)"
   ]
  },
  {
   "cell_type": "code",
   "execution_count": 51,
   "id": "253e92fe-07b4-4970-8eba-490e6665ed7d",
   "metadata": {},
   "outputs": [],
   "source": [
    "d={\"name\":[\"a\",\"b\",\"c\",\"d\"],\n",
    "   \"ID\":[1001,1002,1003,1004]}"
   ]
  },
  {
   "cell_type": "code",
   "execution_count": 53,
   "id": "bf8c1f8c-b2bb-440c-bab7-557aaff44001",
   "metadata": {},
   "outputs": [
    {
     "data": {
      "text/plain": [
       "{'name': ['a', 'b', 'c', 'd'], 'ID': [1001, 1002, 1003, 1004]}"
      ]
     },
     "execution_count": 53,
     "metadata": {},
     "output_type": "execute_result"
    }
   ],
   "source": [
    "d"
   ]
  },
  {
   "cell_type": "code",
   "execution_count": 55,
   "id": "db421def-07d7-4ba9-bae1-6c35bedfa853",
   "metadata": {},
   "outputs": [],
   "source": [
    "d1={\"name\":(\"a\",\"b\",\"c\",\"d\"),\n",
    "    \"ID\":(1001,1002,1003,1004)}"
   ]
  },
  {
   "cell_type": "code",
   "execution_count": 57,
   "id": "8b89ce6d-ad5f-4022-afae-e570761ef085",
   "metadata": {},
   "outputs": [
    {
     "data": {
      "text/plain": [
       "{'name': ('a', 'b', 'c', 'd'), 'ID': (1001, 1002, 1003, 1004)}"
      ]
     },
     "execution_count": 57,
     "metadata": {},
     "output_type": "execute_result"
    }
   ],
   "source": [
    "d1"
   ]
  },
  {
   "cell_type": "code",
   "execution_count": 59,
   "id": "1b4be7c3-deeb-4086-ba34-af4913dc1af1",
   "metadata": {},
   "outputs": [
    {
     "data": {
      "text/plain": [
       "dict_keys(['name', 'ID'])"
      ]
     },
     "execution_count": 59,
     "metadata": {},
     "output_type": "execute_result"
    }
   ],
   "source": [
    "d.keys()"
   ]
  },
  {
   "cell_type": "code",
   "execution_count": 61,
   "id": "444ed906-1645-44f2-9c23-4d6ecfe037a3",
   "metadata": {},
   "outputs": [
    {
     "data": {
      "text/plain": [
       "dict_values([['a', 'b', 'c', 'd'], [1001, 1002, 1003, 1004]])"
      ]
     },
     "execution_count": 61,
     "metadata": {},
     "output_type": "execute_result"
    }
   ],
   "source": [
    "d.values()"
   ]
  },
  {
   "cell_type": "code",
   "execution_count": 63,
   "id": "d4be73f8-eb01-4ecf-aa26-01dce9f62289",
   "metadata": {},
   "outputs": [
    {
     "data": {
      "text/plain": [
       "['a', 'b', 'c', 'd']"
      ]
     },
     "execution_count": 63,
     "metadata": {},
     "output_type": "execute_result"
    }
   ],
   "source": [
    "d[\"name\"]"
   ]
  },
  {
   "cell_type": "code",
   "execution_count": 65,
   "id": "7bb7ee10-fa3d-4897-8ce1-b8d9cb87594a",
   "metadata": {},
   "outputs": [
    {
     "data": {
      "text/plain": [
       "list"
      ]
     },
     "execution_count": 65,
     "metadata": {},
     "output_type": "execute_result"
    }
   ],
   "source": [
    "type(d[\"name\"])"
   ]
  },
  {
   "cell_type": "code",
   "execution_count": 67,
   "id": "95a1ffd0-7db0-49d3-8bf2-50d13b493e2f",
   "metadata": {},
   "outputs": [],
   "source": [
    "d[\"ID\"][2]=2003"
   ]
  },
  {
   "cell_type": "code",
   "execution_count": 69,
   "id": "d9db3cd4-bebf-4f1e-85fb-c255ad27355d",
   "metadata": {},
   "outputs": [
    {
     "data": {
      "text/plain": [
       "{'name': ['a', 'b', 'c', 'd'], 'ID': [1001, 1002, 2003, 1004]}"
      ]
     },
     "execution_count": 69,
     "metadata": {},
     "output_type": "execute_result"
    }
   ],
   "source": [
    "d"
   ]
  }
 ],
 "metadata": {
  "kernelspec": {
   "display_name": "Python 3 (ipykernel)",
   "language": "python",
   "name": "python3"
  },
  "language_info": {
   "codemirror_mode": {
    "name": "ipython",
    "version": 3
   },
   "file_extension": ".py",
   "mimetype": "text/x-python",
   "name": "python",
   "nbconvert_exporter": "python",
   "pygments_lexer": "ipython3",
   "version": "3.12.4"
  }
 },
 "nbformat": 4,
 "nbformat_minor": 5
}
