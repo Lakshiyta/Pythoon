{
 "cells": [
  {
   "cell_type": "markdown",
   "id": "3d986cf6-3b09-446f-9120-9cc82d117579",
   "metadata": {},
   "source": [
    "# Conditional statement"
   ]
  },
  {
   "cell_type": "code",
   "execution_count": null,
   "id": "d9e4472a-d869-4378-9f05-c8050d13e1ef",
   "metadata": {},
   "outputs": [],
   "source": [
    "#if income is more than 5 lakhs and less than 10 lakh calculate 15% as a tax\n",
    "#if income is more than 10 lakhs and less than 15 lakhs calculate 20% as a tax\n",
    "#if income is more than 15 lakh calculate 30% as a tax\n",
    "#else print(not taxable)"
   ]
  },
  {
   "cell_type": "code",
   "execution_count": 3,
   "id": "e16ab546-a358-4ad8-a277-bce3c45ab9ec",
   "metadata": {},
   "outputs": [
    {
     "name": "stdin",
     "output_type": "stream",
     "text": [
      "Enter the income 1000000\n"
     ]
    },
    {
     "name": "stdout",
     "output_type": "stream",
     "text": [
      "Tax to be paid: 150000.0\n"
     ]
    }
   ],
   "source": [
    "inc=float(input(\"Enter the income\"))\n",
    "if 500000<inc<=1000000:\n",
    "    print(\"Tax to be paid:\",inc*0.15)\n",
    "elif 1000000<inc<=1500000:\n",
    "    print(\"Tax to be paid:\",inc*0.20)\n",
    "elif inc>1500000:\n",
    "    print(\"Tax to be paid:\",inc*0.30)\n",
    "else:\n",
    "    print(\"Not Taxable\")"
   ]
  },
  {
   "cell_type": "code",
   "execution_count": null,
   "id": "d9f2adf3-79c7-4895-8c34-a49ea58c0425",
   "metadata": {},
   "outputs": [],
   "source": [
    "#if income #if income is more than 5 lakhs and less than 10 lakh calculate 15% as a tax\n",
    "#if income is more than 10 lakhs and less than 15 lakhs calculate 20% as a tax\n",
    "#if income is more than 15 lakh calculate 30% as a tax\n",
    "#else: print income in hand"
   ]
  },
  {
   "cell_type": "code",
   "execution_count": 9,
   "id": "529f5e14-b144-4839-8a3a-a2471bea50c7",
   "metadata": {},
   "outputs": [
    {
     "name": "stdin",
     "output_type": "stream",
     "text": [
      "Enter the income 5000000\n"
     ]
    },
    {
     "name": "stdout",
     "output_type": "stream",
     "text": [
      "Income in hand: 3500000.0\n"
     ]
    }
   ],
   "source": [
    "inc=float(input(\"Enter the income\"))\n",
    "if 500000<inc<=1000000:\n",
    "    tax=inc*0.15\n",
    "    print(\"Income in hand:\",inc-tax)\n",
    "elif 1000000<inc<=1500000:\n",
    "    tax=inc*0.20\n",
    "    print(\"Income in hand:\",inc-tax)\n",
    "elif inc>1500000:\n",
    "    tax=inc*0.30\n",
    "    print(\"Income in hand:\",inc-tax)\n",
    "else:\n",
    "    print(\"not taxable\")"
   ]
  },
  {
   "cell_type": "code",
   "execution_count": null,
   "id": "cac79c22-f7f7-423e-9fc1-70e70a0e2b9d",
   "metadata": {},
   "outputs": [],
   "source": [
    "#check if the count of spaces is more than 5 or not inside the string"
   ]
  },
  {
   "cell_type": "code",
   "execution_count": 15,
   "id": "2e3a6a18-03bd-4b70-aef4-83323aade8be",
   "metadata": {},
   "outputs": [
    {
     "name": "stdin",
     "output_type": "stream",
     "text": [
      "Enter the string j k l b c a v\n"
     ]
    },
    {
     "name": "stdout",
     "output_type": "stream",
     "text": [
      "yes\n"
     ]
    }
   ],
   "source": [
    "x=input(\"Enter the string\")\n",
    "if x.count(\" \")>5:\n",
    "    print(\"yes\")\n",
    "else:\n",
    "    print(\"no\")"
   ]
  },
  {
   "cell_type": "code",
   "execution_count": null,
   "id": "6318825b-7e2d-4636-8471-a1d251f4fe50",
   "metadata": {},
   "outputs": [],
   "source": [
    "#check if the length of string is more than 6 or not"
   ]
  },
  {
   "cell_type": "code",
   "execution_count": 25,
   "id": "15bfc62e-2878-4f1b-82a4-583998f666dc",
   "metadata": {},
   "outputs": [
    {
     "name": "stdin",
     "output_type": "stream",
     "text": [
      "Enter the string gdhsbja\n"
     ]
    },
    {
     "name": "stdout",
     "output_type": "stream",
     "text": [
      "Yes\n"
     ]
    }
   ],
   "source": [
    "x=input(\"Enter the string\")\n",
    "if len(x)>6:\n",
    "    print(\"Yes\")\n",
    "else:\n",
    "    print(\"No\")"
   ]
  },
  {
   "cell_type": "code",
   "execution_count": null,
   "id": "25f2c4b5-e12b-4d77-94e3-4e52ada7234d",
   "metadata": {},
   "outputs": [],
   "source": [
    "s=\"hello\"\n",
    "#if starts with \"f\" then merge those 2 string in output"
   ]
  },
  {
   "cell_type": "code",
   "execution_count": 27,
   "id": "9f38f577-2560-4214-8f85-1097f955b4cf",
   "metadata": {},
   "outputs": [
    {
     "name": "stdin",
     "output_type": "stream",
     "text": [
      "enter the string  friends\n"
     ]
    },
    {
     "name": "stdout",
     "output_type": "stream",
     "text": [
      "hello friends\n"
     ]
    }
   ],
   "source": [
    "s=\"hello\"\n",
    "x=input(\"enter the string \")\n",
    "if x[0]==\"f\":\n",
    "    d=s+\" \"+x\n",
    "    print(d)\n",
    "else:\n",
    "    print(\"nope\")"
   ]
  },
  {
   "cell_type": "code",
   "execution_count": null,
   "id": "7c1de7f8-7641-4bbd-ad80-6299ccd0aea1",
   "metadata": {},
   "outputs": [],
   "source": [
    "#check if the given year is leap or not"
   ]
  },
  {
   "cell_type": "code",
   "execution_count": 37,
   "id": "b8256631-c785-4238-bc4f-67d29c7beb4a",
   "metadata": {},
   "outputs": [
    {
     "name": "stdin",
     "output_type": "stream",
     "text": [
      "Enter the year 2024\n"
     ]
    },
    {
     "name": "stdout",
     "output_type": "stream",
     "text": [
      "2024 is a leap year\n"
     ]
    }
   ],
   "source": [
    "year=int(input(\"Enter the year\"))\n",
    "if (year%4==0 and year%100!=0) or (year%400==0):\n",
    "    print(year,\"is a leap year\")\n",
    "else:\n",
    "    print(year,\"is not a leap year\")"
   ]
  },
  {
   "cell_type": "markdown",
   "id": "dc45e4df-00c8-4bd3-8029-e82a8f47fbd5",
   "metadata": {},
   "source": [
    "# Nested if"
   ]
  },
  {
   "cell_type": "code",
   "execution_count": 41,
   "id": "703d830d-5d42-44be-83ce-37a3b18c6fa8",
   "metadata": {},
   "outputs": [
    {
     "name": "stdin",
     "output_type": "stream",
     "text": [
      "age 15\n"
     ]
    },
    {
     "name": "stdout",
     "output_type": "stream",
     "text": [
      "minor\n",
      "kid\n"
     ]
    }
   ],
   "source": [
    "x=int(input(\"age\"))\n",
    "if x<18:\n",
    "    print(\"minor\")\n",
    "    if x<16:\n",
    "        print(\"kid\")"
   ]
  },
  {
   "cell_type": "code",
   "execution_count": 43,
   "id": "6ec4415e-008a-4ccb-a8db-7df48fd38be2",
   "metadata": {},
   "outputs": [
    {
     "name": "stdin",
     "output_type": "stream",
     "text": [
      "age 16\n"
     ]
    },
    {
     "name": "stdout",
     "output_type": "stream",
     "text": [
      "minor\n",
      "kid 1\n"
     ]
    }
   ],
   "source": [
    "x=int(input(\"age\"))\n",
    "if x<18:\n",
    "    print(\"minor\")\n",
    "    if x<16:\n",
    "        print(\"kid\")\n",
    "    elif x==16:\n",
    "        print(\"kid 1\")"
   ]
  },
  {
   "cell_type": "code",
   "execution_count": 47,
   "id": "55ee7277-9a69-49df-91ac-e9309e8b1f7f",
   "metadata": {},
   "outputs": [
    {
     "name": "stdin",
     "output_type": "stream",
     "text": [
      "Enter the shape Triangle\n",
      "What u want in triangle area\n"
     ]
    },
    {
     "name": "stdout",
     "output_type": "stream",
     "text": [
      "area of triangle is --->1/2*b*h\n"
     ]
    }
   ],
   "source": [
    "name = input(\"Enter the shape\")\n",
    "if name.lower()==\"triangle\":\n",
    "    g=input(\"What u want in triangle\")\n",
    "    if g.lower()==\"area\":\n",
    "        print(\"area of triangle is --->1/2*b*h\")\n",
    "    elif g.lower()==\"perimeter\":\n",
    "        print(\"perimeter of triangle is a+b+c\")"
   ]
  },
  {
   "cell_type": "code",
   "execution_count": 51,
   "id": "52b1770b-f00f-4e77-8912-1054a8af8963",
   "metadata": {},
   "outputs": [
    {
     "name": "stdin",
     "output_type": "stream",
     "text": [
      "Enter the shape cylinder\n",
      "Enter what u want to cylinder volume\n"
     ]
    },
    {
     "name": "stdout",
     "output_type": "stream",
     "text": [
      "volume of cube is pi*r**h\n"
     ]
    }
   ],
   "source": [
    "name = input(\"Enter the shape\")\n",
    "if name.lower()==\"triangle\":\n",
    "    g=input(\"What u want in triangle\")\n",
    "    if g.lower()==\"area\":\n",
    "        print(\"area of triangle is --->1/2*b*h\")\n",
    "    elif g.lower()==\"perimeter\":\n",
    "        print(\"perimeter of triangle is a+b+c\")\n",
    "    else:\n",
    "        print(\"wrong statement\")\n",
    "elif name.lower()==\"cube\":\n",
    "    g=input(\"Enter what u want to cube\")\n",
    "    if g.lower()==\"volume\":\n",
    "        print(\"volume of cube is side**3\")\n",
    "    elif g.lower()==\"surface area\":\n",
    "        print(\"surface area of cube is 6*a**2\")\n",
    "    else:\n",
    "        print(\"wrong statement\")\n",
    "elif name.lower()==\"cylinder\":\n",
    "    g=input(\"Enter what u want to cylinder\")\n",
    "    if g.lower()==\"volume\":\n",
    "        print(\"volume of cube is pi*r**h\")\n",
    "    elif g.lower()==\"surface area\":\n",
    "        print(\"surface area of cube is 2*pi*r*h+2*pi*r**2\")"
   ]
  },
  {
   "cell_type": "code",
   "execution_count": null,
   "id": "e012b523-1c76-4687-acc5-a63f0259b2e6",
   "metadata": {},
   "outputs": [],
   "source": []
  }
 ],
 "metadata": {
  "kernelspec": {
   "display_name": "Python 3 (ipykernel)",
   "language": "python",
   "name": "python3"
  },
  "language_info": {
   "codemirror_mode": {
    "name": "ipython",
    "version": 3
   },
   "file_extension": ".py",
   "mimetype": "text/x-python",
   "name": "python",
   "nbconvert_exporter": "python",
   "pygments_lexer": "ipython3",
   "version": "3.12.4"
  }
 },
 "nbformat": 4,
 "nbformat_minor": 5
}
