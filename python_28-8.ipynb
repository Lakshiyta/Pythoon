{
 "cells": [
  {
   "cell_type": "markdown",
   "id": "c14ad46d-b46e-43ff-8939-7db65f602a7a",
   "metadata": {},
   "source": [
    "# Indexing"
   ]
  },
  {
   "cell_type": "code",
   "execution_count": null,
   "id": "7e2386b7-1d10-4ab1-99a2-4d539e1f84e2",
   "metadata": {},
   "outputs": [],
   "source": [
    "0 1 2 3 4\n",
    "h e l l o"
   ]
  },
  {
   "cell_type": "code",
   "execution_count": 7,
   "id": "964added-bb26-427f-acd3-ca7e1eb56199",
   "metadata": {},
   "outputs": [
    {
     "data": {
      "text/plain": [
       "'hello'"
      ]
     },
     "execution_count": 7,
     "metadata": {},
     "output_type": "execute_result"
    }
   ],
   "source": [
    "r =\"hello\"\n",
    "r"
   ]
  },
  {
   "cell_type": "code",
   "execution_count": 9,
   "id": "f3e7ad98-2010-4ad7-8b48-3738fa08d34b",
   "metadata": {},
   "outputs": [
    {
     "data": {
      "text/plain": [
       "'l'"
      ]
     },
     "execution_count": 9,
     "metadata": {},
     "output_type": "execute_result"
    }
   ],
   "source": [
    "r[3]"
   ]
  },
  {
   "cell_type": "code",
   "execution_count": null,
   "id": "42ed9f88-0997-4586-a40c-9974807c6bd4",
   "metadata": {},
   "outputs": [],
   "source": [
    "variable[start:stop:step]\n",
    "[0:6] # start and stop\n",
    "[0:] #started but didn't stop anywhere\n",
    "[0:8:2] #start stop and step (firstly print no. till 8 then, 2 is using to taking the 1 gap between num)"
   ]
  },
  {
   "cell_type": "code",
   "execution_count": 11,
   "id": "d3401b9a-5dff-46d3-9d93-12507fdbdd05",
   "metadata": {},
   "outputs": [
    {
     "data": {
      "text/plain": [
       "'Hello riyaaa meet me at the shop or mail me @laksh1234.com'"
      ]
     },
     "execution_count": 11,
     "metadata": {},
     "output_type": "execute_result"
    }
   ],
   "source": [
    "st=\"Hello riyaaa meet me at the shop or mail me @laksh1234.com\"\n",
    "st"
   ]
  },
  {
   "cell_type": "code",
   "execution_count": 13,
   "id": "3543e505-b17b-469c-9166-c4ceb39c09f8",
   "metadata": {},
   "outputs": [
    {
     "data": {
      "text/plain": [
       "'Hello riya'"
      ]
     },
     "execution_count": 13,
     "metadata": {},
     "output_type": "execute_result"
    }
   ],
   "source": [
    "st[0:10]"
   ]
  },
  {
   "cell_type": "code",
   "execution_count": 15,
   "id": "8b6ca87f-a0da-442d-ba46-dce640556c0d",
   "metadata": {},
   "outputs": [],
   "source": [
    "w=\"0123456789\""
   ]
  },
  {
   "cell_type": "code",
   "execution_count": 17,
   "id": "2e075ed0-3309-494c-bdca-d56fe285c88f",
   "metadata": {},
   "outputs": [
    {
     "data": {
      "text/plain": [
       "'012345'"
      ]
     },
     "execution_count": 17,
     "metadata": {},
     "output_type": "execute_result"
    }
   ],
   "source": [
    "w[0:6] "
   ]
  },
  {
   "cell_type": "code",
   "execution_count": 19,
   "id": "502c2224-e048-43cc-92d2-8f6cfac71dc7",
   "metadata": {},
   "outputs": [
    {
     "data": {
      "text/plain": [
       "'0123456789'"
      ]
     },
     "execution_count": 19,
     "metadata": {},
     "output_type": "execute_result"
    }
   ],
   "source": [
    "w[0:]"
   ]
  },
  {
   "cell_type": "code",
   "execution_count": 21,
   "id": "cfede8d6-a3b8-482a-80f3-1163d4aa6046",
   "metadata": {},
   "outputs": [
    {
     "data": {
      "text/plain": [
       "'0246'"
      ]
     },
     "execution_count": 21,
     "metadata": {},
     "output_type": "execute_result"
    }
   ],
   "source": [
    "w[0:8:2]"
   ]
  },
  {
   "cell_type": "code",
   "execution_count": 23,
   "id": "9450050d-88b0-495c-84ba-17d37e9341ee",
   "metadata": {},
   "outputs": [
    {
     "data": {
      "text/plain": [
       "28"
      ]
     },
     "execution_count": 23,
     "metadata": {},
     "output_type": "execute_result"
    }
   ],
   "source": [
    "st.find(\"shop\")"
   ]
  },
  {
   "cell_type": "code",
   "execution_count": 25,
   "id": "21953d3e-5911-42d0-9883-18965d301fa9",
   "metadata": {},
   "outputs": [
    {
     "data": {
      "text/plain": [
       "'shop'"
      ]
     },
     "execution_count": 25,
     "metadata": {},
     "output_type": "execute_result"
    }
   ],
   "source": [
    "st[28:32]"
   ]
  },
  {
   "cell_type": "code",
   "execution_count": 33,
   "id": "cc5a67a0-e5c4-41a5-9cfd-fb23ac7704be",
   "metadata": {},
   "outputs": [
    {
     "data": {
      "text/plain": [
       "44"
      ]
     },
     "execution_count": 33,
     "metadata": {},
     "output_type": "execute_result"
    }
   ],
   "source": [
    "st.find(\"@laksh1234.com\")"
   ]
  },
  {
   "cell_type": "code",
   "execution_count": 37,
   "id": "de1e0030-d37d-4f78-9b86-ca4b9a47aadd",
   "metadata": {},
   "outputs": [
    {
     "data": {
      "text/plain": [
       "'@laksh1234.com'"
      ]
     },
     "execution_count": 37,
     "metadata": {},
     "output_type": "execute_result"
    }
   ],
   "source": [
    "st[44:]"
   ]
  },
  {
   "cell_type": "code",
   "execution_count": 39,
   "id": "fb201c39-99e4-452d-aefc-351106caee50",
   "metadata": {},
   "outputs": [
    {
     "data": {
      "text/plain": [
       "13"
      ]
     },
     "execution_count": 39,
     "metadata": {},
     "output_type": "execute_result"
    }
   ],
   "source": [
    "st.find(\"meet me\")"
   ]
  },
  {
   "cell_type": "code",
   "execution_count": 43,
   "id": "5f96cf8c-11d8-495c-ae1b-158bcdcc04e9",
   "metadata": {},
   "outputs": [
    {
     "data": {
      "text/plain": [
       "'meet me'"
      ]
     },
     "execution_count": 43,
     "metadata": {},
     "output_type": "execute_result"
    }
   ],
   "source": [
    "st[13:20]"
   ]
  },
  {
   "cell_type": "code",
   "execution_count": 45,
   "id": "48149a3a-7e75-405b-a732-babeafbc4ea1",
   "metadata": {},
   "outputs": [],
   "source": [
    "s=\"hello harry,please meet me @ coffee shop or email me @python@gmail.com @11:00 am\""
   ]
  },
  {
   "cell_type": "code",
   "execution_count": 63,
   "id": "124c3422-4c61-442e-8509-7e2d6b366083",
   "metadata": {},
   "outputs": [
    {
     "data": {
      "text/plain": [
       "'hello harry,please meet me @ coffee shop or email me @PYTHON@GMAIL.COM @11:00 am'"
      ]
     },
     "execution_count": 63,
     "metadata": {},
     "output_type": "execute_result"
    }
   ],
   "source": [
    "s.replace(\"python@gmail.com\", \"PYTHON@GMAIL.COM\")"
   ]
  },
  {
   "cell_type": "code",
   "execution_count": 59,
   "id": "5fbe8aa1-fc7b-492b-b245-f383d911de60",
   "metadata": {},
   "outputs": [
    {
     "data": {
      "text/plain": [
       "['hello',\n",
       " 'harry,please',\n",
       " 'meet',\n",
       " 'me',\n",
       " '@',\n",
       " 'coffee',\n",
       " 'shop',\n",
       " 'or',\n",
       " 'email',\n",
       " 'me',\n",
       " '@python@gmail.com',\n",
       " '@11:00',\n",
       " 'am']"
      ]
     },
     "execution_count": 59,
     "metadata": {},
     "output_type": "execute_result"
    }
   ],
   "source": [
    "s.split()"
   ]
  },
  {
   "cell_type": "code",
   "execution_count": 67,
   "id": "5e11faa0-3e0d-4f88-b170-f5b2017d1d71",
   "metadata": {},
   "outputs": [
    {
     "data": {
      "text/plain": [
       "'robin said to harry that hello harry,please meet me @ coffee shop or email me @python@gmail.com @11:00 am'"
      ]
     },
     "execution_count": 67,
     "metadata": {},
     "output_type": "execute_result"
    }
   ],
   "source": [
    " \"robin said to harry that \" + s"
   ]
  },
  {
   "cell_type": "code",
   "execution_count": 71,
   "id": "4dc67e5d-5cf1-4910-a149-6b34b54386d6",
   "metadata": {},
   "outputs": [
    {
     "data": {
      "text/plain": [
       "\"hello harry,please meet me @ coffee shop or email me @python@gmail.com @11:00 am harry replied ok i'll be there\""
      ]
     },
     "execution_count": 71,
     "metadata": {},
     "output_type": "execute_result"
    }
   ],
   "source": [
    "s+ \" harry replied ok i'll be there\""
   ]
  },
  {
   "cell_type": "code",
   "execution_count": 91,
   "id": "128be0c2-7636-46dc-9db8-126ad93099d9",
   "metadata": {},
   "outputs": [
    {
     "data": {
      "text/plain": [
       "'elpmaxE'"
      ]
     },
     "execution_count": 91,
     "metadata": {},
     "output_type": "execute_result"
    }
   ],
   "source": [
    "e=\"Example\"\n",
    "e[::-1]"
   ]
  },
  {
   "cell_type": "code",
   "execution_count": 101,
   "id": "184d6396-a517-4b73-a78f-2e4d48c4f9fc",
   "metadata": {},
   "outputs": [],
   "source": [
    "q=\"0123456789\""
   ]
  },
  {
   "cell_type": "code",
   "execution_count": 103,
   "id": "cb4f261a-7bac-4197-8c05-01b3927bead1",
   "metadata": {},
   "outputs": [
    {
     "data": {
      "text/plain": [
       "'02468'"
      ]
     },
     "execution_count": 103,
     "metadata": {},
     "output_type": "execute_result"
    }
   ],
   "source": [
    "q[0:9:2]"
   ]
  },
  {
   "cell_type": "code",
   "execution_count": null,
   "id": "63621802-d98a-44c2-ba9e-0788fafede76",
   "metadata": {},
   "outputs": [],
   "source": []
  }
 ],
 "metadata": {
  "kernelspec": {
   "display_name": "Python 3 (ipykernel)",
   "language": "python",
   "name": "python3"
  },
  "language_info": {
   "codemirror_mode": {
    "name": "ipython",
    "version": 3
   },
   "file_extension": ".py",
   "mimetype": "text/x-python",
   "name": "python",
   "nbconvert_exporter": "python",
   "pygments_lexer": "ipython3",
   "version": "3.12.4"
  }
 },
 "nbformat": 4,
 "nbformat_minor": 5
}
