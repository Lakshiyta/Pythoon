{
 "cells": [
  {
   "cell_type": "markdown",
   "id": "fa0c3b54-9107-4bd1-bc3e-f2cba067fa53",
   "metadata": {},
   "source": [
    "# List"
   ]
  },
  {
   "cell_type": "code",
   "execution_count": null,
   "id": "7018ca3e-873a-4d2e-82ea-e38d2c025e2d",
   "metadata": {},
   "outputs": [],
   "source": [
    "It is an ordered collection of elements which is mutable and it can store all types of data. \n",
    "Pop : removes last element"
   ]
  },
  {
   "cell_type": "code",
   "execution_count": 28,
   "id": "9e0bc24b-6a45-46a2-a15e-f0194e01a15d",
   "metadata": {},
   "outputs": [],
   "source": [
    "l=[]"
   ]
  },
  {
   "cell_type": "code",
   "execution_count": 30,
   "id": "e8fc4423-5fbc-498b-b3bc-0e3c8615b166",
   "metadata": {},
   "outputs": [
    {
     "data": {
      "text/plain": [
       "list"
      ]
     },
     "execution_count": 30,
     "metadata": {},
     "output_type": "execute_result"
    }
   ],
   "source": [
    "type(l)"
   ]
  },
  {
   "cell_type": "code",
   "execution_count": 9,
   "id": "155e714c-aa75-4857-a4eb-dd10437d9f49",
   "metadata": {},
   "outputs": [],
   "source": [
    "l = [0,1,2,3,4,5,6,7,8,9,10]"
   ]
  },
  {
   "cell_type": "code",
   "execution_count": 11,
   "id": "36a8cb0f-42e0-4911-bbf4-ab0bb50785bb",
   "metadata": {},
   "outputs": [
    {
     "data": {
      "text/plain": [
       "list"
      ]
     },
     "execution_count": 11,
     "metadata": {},
     "output_type": "execute_result"
    }
   ],
   "source": [
    "type(l)"
   ]
  },
  {
   "cell_type": "code",
   "execution_count": 13,
   "id": "a2e2b4aa-e926-476b-ad4f-68a21ac596d7",
   "metadata": {},
   "outputs": [
    {
     "data": {
      "text/plain": [
       "[0, 1, 2, 3, 4, 5, 6, 7, 8, 9, 10]"
      ]
     },
     "execution_count": 13,
     "metadata": {},
     "output_type": "execute_result"
    }
   ],
   "source": [
    "l"
   ]
  },
  {
   "cell_type": "code",
   "execution_count": 15,
   "id": "530b9616-52cb-4304-b959-7d8f1aa7dc09",
   "metadata": {},
   "outputs": [
    {
     "data": {
      "text/plain": [
       "10"
      ]
     },
     "execution_count": 15,
     "metadata": {},
     "output_type": "execute_result"
    }
   ],
   "source": [
    "l.pop()"
   ]
  },
  {
   "cell_type": "code",
   "execution_count": 17,
   "id": "3a656035-0314-44e5-ac53-71ee9a99dde6",
   "metadata": {},
   "outputs": [],
   "source": [
    "l1=[1,1,2,\"string\",True]"
   ]
  },
  {
   "cell_type": "code",
   "execution_count": 19,
   "id": "4a529f97-a968-4731-afbe-bc96b027a6bd",
   "metadata": {},
   "outputs": [
    {
     "data": {
      "text/plain": [
       "[1, 1, 2, 'string', True]"
      ]
     },
     "execution_count": 19,
     "metadata": {},
     "output_type": "execute_result"
    }
   ],
   "source": [
    "l1"
   ]
  },
  {
   "cell_type": "code",
   "execution_count": 6,
   "id": "cef69c95-8f69-47cc-bf07-15ec4e782f37",
   "metadata": {},
   "outputs": [],
   "source": [
    "l2=[0,1,2,3,4,5,6,7,8,9,10]"
   ]
  },
  {
   "cell_type": "code",
   "execution_count": 23,
   "id": "f12029d4-ebf6-4fde-9d55-e030384722b8",
   "metadata": {},
   "outputs": [
    {
     "data": {
      "text/plain": [
       "11"
      ]
     },
     "execution_count": 23,
     "metadata": {},
     "output_type": "execute_result"
    }
   ],
   "source": [
    "#print the number of elements\n",
    "len(l2)"
   ]
  },
  {
   "cell_type": "code",
   "execution_count": 34,
   "id": "9bb4c59e-f629-494e-ae33-295804e57135",
   "metadata": {},
   "outputs": [],
   "source": [
    "#add the element in end of list\n",
    "l2.append(12)"
   ]
  },
  {
   "cell_type": "code",
   "execution_count": 36,
   "id": "e7220a4e-1e3a-4086-8754-fdb07a852899",
   "metadata": {},
   "outputs": [
    {
     "data": {
      "text/plain": [
       "[0, 1, 2, 3, 4, 5, 6, 7, 8, 9, 10, 12, 12]"
      ]
     },
     "execution_count": 36,
     "metadata": {},
     "output_type": "execute_result"
    }
   ],
   "source": [
    "l2"
   ]
  },
  {
   "cell_type": "code",
   "execution_count": 40,
   "id": "dbc8b5d5-c15b-4a8e-b761-b4bbfb0caaa6",
   "metadata": {},
   "outputs": [
    {
     "data": {
      "text/plain": [
       "12"
      ]
     },
     "execution_count": 40,
     "metadata": {},
     "output_type": "execute_result"
    }
   ],
   "source": [
    "#it print and remove last element from the list\n",
    "l2.pop()"
   ]
  },
  {
   "cell_type": "code",
   "execution_count": 42,
   "id": "0f702964-c623-465b-b38e-8910c891b917",
   "metadata": {},
   "outputs": [
    {
     "data": {
      "text/plain": [
       "10"
      ]
     },
     "execution_count": 42,
     "metadata": {},
     "output_type": "execute_result"
    }
   ],
   "source": [
    "l2.pop()"
   ]
  },
  {
   "cell_type": "code",
   "execution_count": 44,
   "id": "d463f4ce-02cf-433f-b55b-769966d80c79",
   "metadata": {},
   "outputs": [
    {
     "data": {
      "text/plain": [
       "[0, 1, 2, 3, 4, 5, 6, 7, 8, 9]"
      ]
     },
     "execution_count": 44,
     "metadata": {},
     "output_type": "execute_result"
    }
   ],
   "source": [
    "l2"
   ]
  },
  {
   "cell_type": "code",
   "execution_count": 47,
   "id": "15507a1c-377a-4c79-9c38-f348ce851109",
   "metadata": {},
   "outputs": [
    {
     "data": {
      "text/plain": [
       "0"
      ]
     },
     "execution_count": 47,
     "metadata": {},
     "output_type": "execute_result"
    }
   ],
   "source": [
    "#print the count of given element\n",
    "l2.count(500)"
   ]
  },
  {
   "cell_type": "code",
   "execution_count": 55,
   "id": "ebab3df8-05c9-4d2f-876c-f421f0956cce",
   "metadata": {},
   "outputs": [],
   "source": [
    "#add more than 1 element at the end of the list\n",
    "l2.extend([48,39])"
   ]
  },
  {
   "cell_type": "code",
   "execution_count": 67,
   "id": "e97e7f67-c2fa-4879-9919-cb07ff8bc3bf",
   "metadata": {},
   "outputs": [
    {
     "data": {
      "text/plain": [
       "[0, 1, 2, 3, 4, 5, 6, 7, 8, 9, 10, 48, 39]"
      ]
     },
     "execution_count": 67,
     "metadata": {},
     "output_type": "execute_result"
    }
   ],
   "source": [
    "l2"
   ]
  },
  {
   "cell_type": "code",
   "execution_count": 69,
   "id": "a85f5d73-485e-4d94-8133-19a027db97b1",
   "metadata": {},
   "outputs": [],
   "source": [
    "#it removes the given element\n",
    "l2.remove(5)"
   ]
  },
  {
   "cell_type": "code",
   "execution_count": 71,
   "id": "c3497544-8177-4d32-8e4b-4097e6fa9300",
   "metadata": {},
   "outputs": [
    {
     "data": {
      "text/plain": [
       "[0, 1, 2, 3, 4, 6, 7, 8, 9, 10, 48, 39]"
      ]
     },
     "execution_count": 71,
     "metadata": {},
     "output_type": "execute_result"
    }
   ],
   "source": [
    "l2"
   ]
  },
  {
   "cell_type": "code",
   "execution_count": 73,
   "id": "92c4d894-07ce-4364-af3c-ddb5dc5cc8b8",
   "metadata": {},
   "outputs": [],
   "source": [
    "#it will reverse the whole list\n",
    "l2.reverse()"
   ]
  },
  {
   "cell_type": "code",
   "execution_count": 75,
   "id": "bb0f5f99-2e8e-430e-9db4-18d63400f90c",
   "metadata": {},
   "outputs": [
    {
     "data": {
      "text/plain": [
       "[39, 48, 10, 9, 8, 7, 6, 4, 3, 2, 1, 0]"
      ]
     },
     "execution_count": 75,
     "metadata": {},
     "output_type": "execute_result"
    }
   ],
   "source": [
    "l2"
   ]
  },
  {
   "cell_type": "code",
   "execution_count": 77,
   "id": "8d773e29-510a-453c-b375-6a525df8ed43",
   "metadata": {},
   "outputs": [],
   "source": [
    "#it will sort the list in ascending order\n",
    "l2.sort()"
   ]
  },
  {
   "cell_type": "code",
   "execution_count": 79,
   "id": "4e12a3c4-24ae-4444-a45e-1780ecdf6fad",
   "metadata": {},
   "outputs": [
    {
     "data": {
      "text/plain": [
       "[0, 1, 2, 3, 4, 6, 7, 8, 9, 10, 39, 48]"
      ]
     },
     "execution_count": 79,
     "metadata": {},
     "output_type": "execute_result"
    }
   ],
   "source": [
    "l2"
   ]
  },
  {
   "cell_type": "code",
   "execution_count": 85,
   "id": "7d30fe7a-9bc9-4ad6-8091-86f19f6a3450",
   "metadata": {},
   "outputs": [],
   "source": [
    "#it will sort the list in descending order\n",
    "l2.sort(reverse=True)"
   ]
  },
  {
   "cell_type": "code",
   "execution_count": 87,
   "id": "471679ac-bdbb-437b-9d10-057386fb7838",
   "metadata": {},
   "outputs": [
    {
     "data": {
      "text/plain": [
       "[48, 39, 10, 9, 8, 7, 6, 4, 3, 2, 1, 0]"
      ]
     },
     "execution_count": 87,
     "metadata": {},
     "output_type": "execute_result"
    }
   ],
   "source": [
    "l2"
   ]
  },
  {
   "cell_type": "code",
   "execution_count": 89,
   "id": "94e2f765-9aa4-4386-828d-69989fc15eac",
   "metadata": {},
   "outputs": [
    {
     "data": {
      "text/plain": [
       "[48, 39, 10, 9, 8, 21, 7, 6, 4, 3, 2, 1, 0]"
      ]
     },
     "execution_count": 89,
     "metadata": {},
     "output_type": "execute_result"
    }
   ],
   "source": [
    "#it push the index element to next element, then insert the value\n",
    "l2.insert(5,21)\n",
    "l2"
   ]
  },
  {
   "cell_type": "code",
   "execution_count": 91,
   "id": "7fd677b3-6599-4141-8c69-fb2c3f70e24a",
   "metadata": {},
   "outputs": [
    {
     "data": {
      "text/plain": [
       "[]"
      ]
     },
     "execution_count": 91,
     "metadata": {},
     "output_type": "execute_result"
    }
   ],
   "source": [
    "#it will delete all elements from the list and make a blank list\n",
    "l2.clear()\n",
    "l2"
   ]
  },
  {
   "cell_type": "code",
   "execution_count": 93,
   "id": "d4458c0d-df60-4187-8cce-2ce6b42cac71",
   "metadata": {},
   "outputs": [
    {
     "data": {
      "text/plain": [
       "[0, 1, 2, 3, 4, 5, 6, 7, 8, 9]"
      ]
     },
     "execution_count": 93,
     "metadata": {},
     "output_type": "execute_result"
    }
   ],
   "source": [
    "l"
   ]
  },
  {
   "cell_type": "code",
   "execution_count": 95,
   "id": "373fb276-a4b3-46d6-b154-33d1077dbf78",
   "metadata": {},
   "outputs": [],
   "source": [
    "l.reverse()"
   ]
  },
  {
   "cell_type": "code",
   "execution_count": 97,
   "id": "58732861-ddf0-4a45-8ea5-1daff5bf87d5",
   "metadata": {},
   "outputs": [
    {
     "data": {
      "text/plain": [
       "[9, 8, 7, 6, 5, 4, 3, 2, 1, 0]"
      ]
     },
     "execution_count": 97,
     "metadata": {},
     "output_type": "execute_result"
    }
   ],
   "source": [
    "l"
   ]
  },
  {
   "cell_type": "code",
   "execution_count": 99,
   "id": "a9e2f47d-0be4-4ef9-adf1-eebf83c0c11a",
   "metadata": {},
   "outputs": [
    {
     "data": {
      "text/plain": [
       "4"
      ]
     },
     "execution_count": 99,
     "metadata": {},
     "output_type": "execute_result"
    }
   ],
   "source": [
    "#it shows the index of the given element\n",
    "l.index(5)"
   ]
  },
  {
   "cell_type": "code",
   "execution_count": 101,
   "id": "3881d4c8-34a5-43f2-b23b-58bba6f1762d",
   "metadata": {},
   "outputs": [
    {
     "data": {
      "text/plain": [
       "[9, 8, 7, 6, 5, 40, 3, 2, 1, 0]"
      ]
     },
     "execution_count": 101,
     "metadata": {},
     "output_type": "execute_result"
    }
   ],
   "source": [
    "#it will replace the value of that particular index ([5]=4 will replaced to 40)\n",
    "l[5]=40\n",
    "l"
   ]
  },
  {
   "cell_type": "code",
   "execution_count": 109,
   "id": "ecf38f9d-f8f3-43fb-99b4-c10d9642fa80",
   "metadata": {},
   "outputs": [],
   "source": [
    "w1=[55,47,48,36,45,\"string\",[142,235,3659,45]]"
   ]
  },
  {
   "cell_type": "code",
   "execution_count": null,
   "id": "0bdad92a-9bce-4b35-b248-18bd83569763",
   "metadata": {},
   "outputs": [],
   "source": [
    "variable[start:stop:step]"
   ]
  },
  {
   "cell_type": "code",
   "execution_count": 111,
   "id": "5299777f-2522-4939-9943-fdac2069d679",
   "metadata": {},
   "outputs": [
    {
     "data": {
      "text/plain": [
       "45"
      ]
     },
     "execution_count": 111,
     "metadata": {},
     "output_type": "execute_result"
    }
   ],
   "source": [
    "w1[4]"
   ]
  },
  {
   "cell_type": "code",
   "execution_count": 113,
   "id": "ba96346f-f197-4201-b581-7e166af33b54",
   "metadata": {},
   "outputs": [
    {
     "data": {
      "text/plain": [
       "[45, 'string', [142, 235, 3659, 45]]"
      ]
     },
     "execution_count": 113,
     "metadata": {},
     "output_type": "execute_result"
    }
   ],
   "source": [
    "w1[4:]"
   ]
  },
  {
   "cell_type": "code",
   "execution_count": 115,
   "id": "b1bfcc7e-caa5-4c9e-9c2b-2a582203a99d",
   "metadata": {},
   "outputs": [
    {
     "data": {
      "text/plain": [
       "'string'"
      ]
     },
     "execution_count": 115,
     "metadata": {},
     "output_type": "execute_result"
    }
   ],
   "source": [
    "w1[5]"
   ]
  },
  {
   "cell_type": "code",
   "execution_count": 119,
   "id": "3bef5b28-a66c-4946-9979-b12f7980618c",
   "metadata": {},
   "outputs": [
    {
     "data": {
      "text/plain": [
       "[142, 235, 3659, 45]"
      ]
     },
     "execution_count": 119,
     "metadata": {},
     "output_type": "execute_result"
    }
   ],
   "source": [
    "w1[-1]"
   ]
  },
  {
   "cell_type": "code",
   "execution_count": 121,
   "id": "d76c405a-26b8-450a-a8e7-eac8df44e550",
   "metadata": {},
   "outputs": [
    {
     "data": {
      "text/plain": [
       "235"
      ]
     },
     "execution_count": 121,
     "metadata": {},
     "output_type": "execute_result"
    }
   ],
   "source": [
    "w1[-1][1]"
   ]
  },
  {
   "cell_type": "code",
   "execution_count": 123,
   "id": "f7f98cb9-a846-4e76-8bbe-d4ed1b5fad33",
   "metadata": {},
   "outputs": [
    {
     "data": {
      "text/plain": [
       "'ring'"
      ]
     },
     "execution_count": 123,
     "metadata": {},
     "output_type": "execute_result"
    }
   ],
   "source": [
    "w1[5][2:]"
   ]
  },
  {
   "cell_type": "code",
   "execution_count": 125,
   "id": "cee51eb2-9a4a-43af-b7ec-710b6442894b",
   "metadata": {},
   "outputs": [],
   "source": [
    "k=[45,47,48,[123,\"hello\",[\"start\"],\"how\",\"name\"],3165,4.25,458,True]"
   ]
  },
  {
   "cell_type": "code",
   "execution_count": 131,
   "id": "95f6cd08-1d7e-40ac-87f9-5dc3c45fe09e",
   "metadata": {},
   "outputs": [
    {
     "data": {
      "text/plain": [
       "[45, 47, 48, [123, 'hello', ['end'], 'how', 'name'], 3165, 4.25, 458, True]"
      ]
     },
     "execution_count": 131,
     "metadata": {},
     "output_type": "execute_result"
    }
   ],
   "source": [
    "k[3][2][0]=\"end\"\n",
    "k"
   ]
  },
  {
   "cell_type": "code",
   "execution_count": 133,
   "id": "54bdb48e-f233-4d71-8c39-175f8883e461",
   "metadata": {},
   "outputs": [
    {
     "data": {
      "text/plain": [
       "'a'"
      ]
     },
     "execution_count": 133,
     "metadata": {},
     "output_type": "execute_result"
    }
   ],
   "source": [
    "k[3][4][1]"
   ]
  },
  {
   "cell_type": "code",
   "execution_count": null,
   "id": "b86723c2-b044-4492-ab6d-2d4703dfbace",
   "metadata": {},
   "outputs": [],
   "source": []
  }
 ],
 "metadata": {
  "kernelspec": {
   "display_name": "Python 3 (ipykernel)",
   "language": "python",
   "name": "python3"
  },
  "language_info": {
   "codemirror_mode": {
    "name": "ipython",
    "version": 3
   },
   "file_extension": ".py",
   "mimetype": "text/x-python",
   "name": "python",
   "nbconvert_exporter": "python",
   "pygments_lexer": "ipython3",
   "version": "3.12.4"
  }
 },
 "nbformat": 4,
 "nbformat_minor": 5
}
