{
 "cells": [
  {
   "cell_type": "markdown",
   "id": "c0a46d5a-6952-4bbc-bc08-bf090c164bf6",
   "metadata": {},
   "source": [
    "# Map and Lambda"
   ]
  },
  {
   "cell_type": "code",
   "execution_count": null,
   "id": "ecb89ebe-e597-4a1a-827b-72eda137f093",
   "metadata": {},
   "outputs": [],
   "source": [
    "# MAP : It's used to apply a function to every item in a list.It helps you to avoid using a for loop to do this."
   ]
  },
  {
   "cell_type": "code",
   "execution_count": 2,
   "id": "4de4b66d-29fa-441f-8769-560df389a2fb",
   "metadata": {},
   "outputs": [],
   "source": [
    "s=[\"aman\",\"riya\",\"lucky\",\"prachi\"]"
   ]
  },
  {
   "cell_type": "code",
   "execution_count": 4,
   "id": "dd13d8e7-5b88-4024-b4fa-ac94467c65ea",
   "metadata": {},
   "outputs": [
    {
     "name": "stdout",
     "output_type": "stream",
     "text": [
      "['AMAN', 'RIYA', 'LUCKY', 'PRACHI']\n"
     ]
    }
   ],
   "source": [
    "print(list(map(str.upper,s)))"
   ]
  },
  {
   "cell_type": "code",
   "execution_count": null,
   "id": "b6e36cbc-ca44-4998-b95f-ba2dda2b353a",
   "metadata": {},
   "outputs": [],
   "source": [
    "# if i want to print the length of each element(lambda)\n",
    "s=[\"aman\",\"riya\",\"lucky\",\"prachi\"]"
   ]
  },
  {
   "cell_type": "code",
   "execution_count": 10,
   "id": "c462a9a5-43e4-46c4-8151-6eab7c180e26",
   "metadata": {},
   "outputs": [],
   "source": [
    "d=list(map(len,s))"
   ]
  },
  {
   "cell_type": "code",
   "execution_count": 12,
   "id": "2d78567f-4eb8-49df-9e4e-605b43266b4c",
   "metadata": {},
   "outputs": [
    {
     "data": {
      "text/plain": [
       "[4, 4, 5, 6]"
      ]
     },
     "execution_count": 12,
     "metadata": {},
     "output_type": "execute_result"
    }
   ],
   "source": [
    "d"
   ]
  },
  {
   "cell_type": "code",
   "execution_count": 18,
   "id": "de3b8e7c-d261-4704-ae1d-307e9acaecfc",
   "metadata": {},
   "outputs": [
    {
     "name": "stdout",
     "output_type": "stream",
     "text": [
      "list 4\n",
      "list 4\n",
      "list 5\n",
      "list 6\n"
     ]
    }
   ],
   "source": [
    "d=(map(len,s))\n",
    "print(\"list\",next(d))\n",
    "print(\"list\",next(d))\n",
    "print(\"list\",next(d))\n",
    "print(\"list\",next(d))"
   ]
  },
  {
   "cell_type": "code",
   "execution_count": 6,
   "id": "300c87bd-0526-4fd0-aeee-7a4b2f876ea6",
   "metadata": {},
   "outputs": [
    {
     "data": {
      "text/plain": [
       "['Aman', 'Riya', 'Lucky', 'Prachi']"
      ]
     },
     "execution_count": 6,
     "metadata": {},
     "output_type": "execute_result"
    }
   ],
   "source": [
    "#to captalize 1st letter of element\n",
    "s=[\"aman\",\"riya\",\"lucky\",\"prachi\"]\n",
    "list(map(str.capitalize,s))"
   ]
  },
  {
   "cell_type": "code",
   "execution_count": null,
   "id": "18db0a46-075a-492d-afae-e9e72d8f58c4",
   "metadata": {},
   "outputs": [],
   "source": [
    "#LAMBDA : It's a way to create small,one-line functions without them a name."
   ]
  },
  {
   "cell_type": "code",
   "execution_count": 20,
   "id": "6851ebcd-5436-4495-95e2-73c2174243af",
   "metadata": {},
   "outputs": [],
   "source": [
    "lambda agr:function_body"
   ]
  },
  {
   "cell_type": "code",
   "execution_count": 24,
   "id": "8b2c73ea-44bb-4004-a7ee-56f610a1dee7",
   "metadata": {},
   "outputs": [
    {
     "data": {
      "text/plain": [
       "20"
      ]
     },
     "execution_count": 24,
     "metadata": {},
     "output_type": "execute_result"
    }
   ],
   "source": [
    "# use lambda to create the sum of 2 variables\n",
    "d=lambda x,y:x+y\n",
    "d(15,5)"
   ]
  },
  {
   "cell_type": "code",
   "execution_count": 30,
   "id": "ef6bc3bb-fefe-492d-b613-8d6eb7d3d5b2",
   "metadata": {},
   "outputs": [
    {
     "data": {
      "text/plain": [
       "16"
      ]
     },
     "execution_count": 30,
     "metadata": {},
     "output_type": "execute_result"
    }
   ],
   "source": [
    "# lambda for square\n",
    "d=lambda x:x**2\n",
    "d(4)"
   ]
  },
  {
   "cell_type": "code",
   "execution_count": 32,
   "id": "2cbf0497-1037-4de7-b224-ce8d17444199",
   "metadata": {},
   "outputs": [
    {
     "data": {
      "text/plain": [
       "50.24"
      ]
     },
     "execution_count": 32,
     "metadata": {},
     "output_type": "execute_result"
    }
   ],
   "source": [
    "# using lambda create a function to calculate area of circle\n",
    "circle=lambda r,pi:pi*r*r\n",
    "circle(4,3.14)"
   ]
  },
  {
   "cell_type": "code",
   "execution_count": 36,
   "id": "94cc5d5d-9fc9-4204-9e53-74fde52626a7",
   "metadata": {},
   "outputs": [
    {
     "data": {
      "text/plain": [
       "31.400000000000002"
      ]
     },
     "execution_count": 36,
     "metadata": {},
     "output_type": "execute_result"
    }
   ],
   "source": [
    "# circumference of circle\n",
    "circle=lambda r,pi:2*pi*r\n",
    "circle(5,3.14)"
   ]
  },
  {
   "cell_type": "code",
   "execution_count": 40,
   "id": "cdc4c20c-dd52-42c5-9b5e-3bd538379863",
   "metadata": {},
   "outputs": [
    {
     "data": {
      "text/plain": [
       "6.0"
      ]
     },
     "execution_count": 40,
     "metadata": {},
     "output_type": "execute_result"
    }
   ],
   "source": [
    "#area of triangle\n",
    "tri=lambda b,h:(1/2)*b*h\n",
    "tri(3,4)"
   ]
  },
  {
   "cell_type": "code",
   "execution_count": 42,
   "id": "33eadfe1-eb7e-446c-94e6-af29c8e00c96",
   "metadata": {},
   "outputs": [
    {
     "data": {
      "text/plain": [
       "9"
      ]
     },
     "execution_count": 42,
     "metadata": {},
     "output_type": "execute_result"
    }
   ],
   "source": [
    "# perimeter of triangle\n",
    "tri=lambda a,b,c:a+b+c\n",
    "tri(2,3,4)"
   ]
  },
  {
   "cell_type": "code",
   "execution_count": 44,
   "id": "f52e30b4-3a6c-4e29-bcc3-f120aaab5eb9",
   "metadata": {},
   "outputs": [
    {
     "data": {
      "text/plain": [
       "True"
      ]
     },
     "execution_count": 44,
     "metadata": {},
     "output_type": "execute_result"
    }
   ],
   "source": [
    "#leap of the year\n",
    "leap=lambda y:y%4==0 and y%100!=0 or y%4==0\n",
    "leap(2024)"
   ]
  },
  {
   "cell_type": "code",
   "execution_count": 48,
   "id": "14b939ea-dfdd-4511-a8d9-bf12850f5f74",
   "metadata": {},
   "outputs": [
    {
     "data": {
      "text/plain": [
       "[1, 4, 9, 16]"
      ]
     },
     "execution_count": 48,
     "metadata": {},
     "output_type": "execute_result"
    }
   ],
   "source": [
    "# to find the square of list\n",
    "ff=lambda x:[i**2 for i in x]\n",
    "r=[1,2,3,4]\n",
    "ff(r)"
   ]
  },
  {
   "cell_type": "code",
   "execution_count": 54,
   "id": "c9bfc138-98b1-46cd-9064-d066cefcf902",
   "metadata": {},
   "outputs": [
    {
     "data": {
      "text/plain": [
       "[8, 10, 12, 14]"
      ]
     },
     "execution_count": 54,
     "metadata": {},
     "output_type": "execute_result"
    }
   ],
   "source": [
    "f=[1,2,3,4]\n",
    "g=[7,8,9,10]\n",
    "list(map(lambda x,y:x+y,f,g))"
   ]
  },
  {
   "cell_type": "code",
   "execution_count": 58,
   "id": "969113be-72d0-4ae6-bfe4-9d8cf7d58455",
   "metadata": {},
   "outputs": [
    {
     "data": {
      "text/plain": [
       "['__add__',\n",
       " '__class__',\n",
       " '__contains__',\n",
       " '__delattr__',\n",
       " '__dir__',\n",
       " '__doc__',\n",
       " '__eq__',\n",
       " '__format__',\n",
       " '__ge__',\n",
       " '__getattribute__',\n",
       " '__getitem__',\n",
       " '__getnewargs__',\n",
       " '__getstate__',\n",
       " '__gt__',\n",
       " '__hash__',\n",
       " '__init__',\n",
       " '__init_subclass__',\n",
       " '__iter__',\n",
       " '__le__',\n",
       " '__len__',\n",
       " '__lt__',\n",
       " '__mod__',\n",
       " '__mul__',\n",
       " '__ne__',\n",
       " '__new__',\n",
       " '__reduce__',\n",
       " '__reduce_ex__',\n",
       " '__repr__',\n",
       " '__rmod__',\n",
       " '__rmul__',\n",
       " '__setattr__',\n",
       " '__sizeof__',\n",
       " '__str__',\n",
       " '__subclasshook__',\n",
       " 'capitalize',\n",
       " 'casefold',\n",
       " 'center',\n",
       " 'count',\n",
       " 'encode',\n",
       " 'endswith',\n",
       " 'expandtabs',\n",
       " 'find',\n",
       " 'format',\n",
       " 'format_map',\n",
       " 'index',\n",
       " 'isalnum',\n",
       " 'isalpha',\n",
       " 'isascii',\n",
       " 'isdecimal',\n",
       " 'isdigit',\n",
       " 'isidentifier',\n",
       " 'islower',\n",
       " 'isnumeric',\n",
       " 'isprintable',\n",
       " 'isspace',\n",
       " 'istitle',\n",
       " 'isupper',\n",
       " 'join',\n",
       " 'ljust',\n",
       " 'lower',\n",
       " 'lstrip',\n",
       " 'maketrans',\n",
       " 'partition',\n",
       " 'removeprefix',\n",
       " 'removesuffix',\n",
       " 'replace',\n",
       " 'rfind',\n",
       " 'rindex',\n",
       " 'rjust',\n",
       " 'rpartition',\n",
       " 'rsplit',\n",
       " 'rstrip',\n",
       " 'split',\n",
       " 'splitlines',\n",
       " 'startswith',\n",
       " 'strip',\n",
       " 'swapcase',\n",
       " 'title',\n",
       " 'translate',\n",
       " 'upper',\n",
       " 'zfill']"
      ]
     },
     "execution_count": 58,
     "metadata": {},
     "output_type": "execute_result"
    }
   ],
   "source": [
    "# DIR() is used to get the in-built function  of given variable\n",
    "s=\"hello\"\n",
    "dir(s)"
   ]
  },
  {
   "cell_type": "code",
   "execution_count": 60,
   "id": "636a19d8-c522-407f-b66f-b3737e40e2bd",
   "metadata": {},
   "outputs": [
    {
     "data": {
      "text/plain": [
       "[8, 3, 7, 11, 5]"
      ]
     },
     "execution_count": 60,
     "metadata": {},
     "output_type": "execute_result"
    }
   ],
   "source": [
    "f=[1,2,3,4,0]\n",
    "g=[7,1,4,7,5]\n",
    "list(map(lambda x,y:x+y,f,g))"
   ]
  },
  {
   "cell_type": "code",
   "execution_count": 68,
   "id": "77d67c6f-825d-4999-80c9-0d9c545f6676",
   "metadata": {},
   "outputs": [
    {
     "data": {
      "text/plain": [
       "[3, 5, 7, 8, 11]"
      ]
     },
     "execution_count": 68,
     "metadata": {},
     "output_type": "execute_result"
    }
   ],
   "source": [
    "sorted(list(map(lambda x,y:x+y,f,g)))"
   ]
  },
  {
   "cell_type": "code",
   "execution_count": null,
   "id": "3db83c84-ef67-4386-914a-a226a4f84399",
   "metadata": {},
   "outputs": [],
   "source": []
  }
 ],
 "metadata": {
  "kernelspec": {
   "display_name": "Python 3 (ipykernel)",
   "language": "python",
   "name": "python3"
  },
  "language_info": {
   "codemirror_mode": {
    "name": "ipython",
    "version": 3
   },
   "file_extension": ".py",
   "mimetype": "text/x-python",
   "name": "python",
   "nbconvert_exporter": "python",
   "pygments_lexer": "ipython3",
   "version": "3.12.4"
  }
 },
 "nbformat": 4,
 "nbformat_minor": 5
}
