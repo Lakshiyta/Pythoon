{
 "cells": [
  {
   "cell_type": "markdown",
   "id": "0f972122-a278-4589-a344-ca73f5d7d17a",
   "metadata": {},
   "source": [
    "# String in LOOP"
   ]
  },
  {
   "cell_type": "code",
   "execution_count": 1,
   "id": "f85085b8-b5a1-4f4b-9da2-e25daf7185f2",
   "metadata": {},
   "outputs": [
    {
     "name": "stdout",
     "output_type": "stream",
     "text": [
      "abhi\n",
      "aman\n",
      "riya\n",
      "dev\n"
     ]
    }
   ],
   "source": [
    "name=[\"abhi\",\"aman\",\"riya\",\"dev\"]\n",
    "for k in name:\n",
    "    print(k)"
   ]
  },
  {
   "cell_type": "code",
   "execution_count": null,
   "id": "371c43a5-caed-4315-b1a5-491ee03ae28c",
   "metadata": {},
   "outputs": [],
   "source": [
    "#print those name starts with a\n",
    "#likewise in second code we use [startswith()] \n",
    "#and if we want from and use [endswith()]"
   ]
  },
  {
   "cell_type": "code",
   "execution_count": 5,
   "id": "3fffe32f-fa34-4efe-b0ae-235092c46da1",
   "metadata": {},
   "outputs": [
    {
     "name": "stdout",
     "output_type": "stream",
     "text": [
      "abhi\n",
      "aman\n",
      "aastha\n"
     ]
    }
   ],
   "source": [
    "name=[\"abhi\",\"aman\",\"riya\",\"dev\",\"aastha\",\"pankaj\"]\n",
    "for k in name:\n",
    "    if k[0]==\"a\":\n",
    "        print(k)"
   ]
  },
  {
   "cell_type": "code",
   "execution_count": 7,
   "id": "79bb9527-de4f-406c-be31-fe70f7332f9c",
   "metadata": {},
   "outputs": [
    {
     "name": "stdout",
     "output_type": "stream",
     "text": [
      "abhi\n",
      "aman\n",
      "aastha\n"
     ]
    }
   ],
   "source": [
    "name=[\"abhi\",\"aman\",\"riya\",\"dev\",\"aastha\",\"pankaj\"]\n",
    "for h in name:\n",
    "    if h.startswith(\"a\"):\n",
    "        print(h)"
   ]
  },
  {
   "cell_type": "code",
   "execution_count": null,
   "id": "fb0606a3-b5fe-4b2e-89b9-4ac346fc2c11",
   "metadata": {},
   "outputs": [],
   "source": [
    "#print those name where letter is more than 4"
   ]
  },
  {
   "cell_type": "code",
   "execution_count": 9,
   "id": "be313209-4071-415f-a00b-757a8e9e8ab4",
   "metadata": {},
   "outputs": [
    {
     "name": "stdout",
     "output_type": "stream",
     "text": [
      "aastha\n",
      "pankaj\n"
     ]
    }
   ],
   "source": [
    "name=[\"abhi\",\"aman\",\"riya\",\"dev\",\"aastha\",\"pankaj\"]\n",
    "for h in name:\n",
    "    if len(h)>4:\n",
    "        print(h)"
   ]
  },
  {
   "cell_type": "code",
   "execution_count": null,
   "id": "1b148f41-699c-445c-9919-1299873abd4d",
   "metadata": {},
   "outputs": [],
   "source": [
    "#print the starting 4 letters of the string"
   ]
  },
  {
   "cell_type": "code",
   "execution_count": 12,
   "id": "19e8f6d8-7865-4410-9633-42a09aaab77a",
   "metadata": {},
   "outputs": [
    {
     "name": "stdout",
     "output_type": "stream",
     "text": [
      "abhi\n",
      "aman\n",
      "riya\n",
      "dev\n",
      "aast\n",
      "pank\n"
     ]
    }
   ],
   "source": [
    "name=[\"abhi\",\"aman\",\"riya\",\"dev\",\"aastha\",\"pankaj\"]\n",
    "for h in name:\n",
    "    print(h[0:4])"
   ]
  },
  {
   "cell_type": "code",
   "execution_count": null,
   "id": "72f75318-68bd-4286-8685-fa91c2a64ba5",
   "metadata": {},
   "outputs": [],
   "source": [
    "#print the last 4 letters of the string"
   ]
  },
  {
   "cell_type": "code",
   "execution_count": 18,
   "id": "6b97da08-c610-46c7-84ef-1ef63a3080fd",
   "metadata": {},
   "outputs": [
    {
     "name": "stdout",
     "output_type": "stream",
     "text": [
      "abhi\n",
      "aman\n",
      "riya\n",
      "dev\n",
      "astha\n",
      "ankaj\n"
     ]
    }
   ],
   "source": [
    "name=[\"abhi\",\"aman\",\"riya\",\"dev\",\"aastha\",\"pankaj\"]\n",
    "for h in name:\n",
    "    print(h[-5:])"
   ]
  },
  {
   "cell_type": "code",
   "execution_count": null,
   "id": "e32d7e27-810d-4b37-a9f3-cc2a54be771e",
   "metadata": {},
   "outputs": [],
   "source": [
    "#print the palindrome words from the string"
   ]
  },
  {
   "cell_type": "code",
   "execution_count": 24,
   "id": "f44d16c2-d770-4a81-912e-973ed20c0ae4",
   "metadata": {},
   "outputs": [
    {
     "name": "stdout",
     "output_type": "stream",
     "text": [
      "eye\n",
      "saas\n"
     ]
    }
   ],
   "source": [
    "name=[\"abhi\",\"aman\",\"riya\",\"dev\",\"aastha\",\"pankaj\",\"eye\",\"saas\"]\n",
    "for h in name:\n",
    "    if h[::-1]==h:\n",
    "        print(h)"
   ]
  },
  {
   "cell_type": "code",
   "execution_count": 26,
   "id": "99129b53-299d-4d64-8890-1ddf0ea816ac",
   "metadata": {},
   "outputs": [
    {
     "data": {
      "text/plain": [
       "['hello', 'how', 'are', 'you', 'i', 'am', 'fine']"
      ]
     },
     "execution_count": 26,
     "metadata": {},
     "output_type": "execute_result"
    }
   ],
   "source": [
    "s=\"hello how are you i am fine\"\n",
    "s.split()"
   ]
  },
  {
   "cell_type": "code",
   "execution_count": null,
   "id": "72130e07-370e-4596-8389-03ee0408a83a",
   "metadata": {},
   "outputs": [],
   "source": [
    "#print the split words from the string"
   ]
  },
  {
   "cell_type": "code",
   "execution_count": 28,
   "id": "18ea964a-56a4-49c3-b70a-e5931d2035b3",
   "metadata": {},
   "outputs": [
    {
     "name": "stdout",
     "output_type": "stream",
     "text": [
      "hello\n",
      "hpow\n",
      "are\n",
      "you\n",
      "i\n",
      "am\n",
      "fine\n"
     ]
    }
   ],
   "source": [
    "s=\"hello hpow are you i am fine\"\n",
    "for i in s.split():\n",
    "    print(i)"
   ]
  },
  {
   "cell_type": "code",
   "execution_count": 30,
   "id": "02ca5ecd-2f96-4c19-833d-d2400b2b308e",
   "metadata": {},
   "outputs": [
    {
     "name": "stdout",
     "output_type": "stream",
     "text": [
      "a 1\n",
      "a 2\n",
      "a 3\n",
      "a 4\n",
      "b 1\n",
      "b 2\n",
      "b 3\n",
      "b 4\n",
      "c 1\n",
      "c 2\n",
      "c 3\n",
      "c 4\n",
      "d 1\n",
      "d 2\n",
      "d 3\n",
      "d 4\n"
     ]
    }
   ],
   "source": [
    "name=[\"a\",\"b\",\"c\",\"d\"]\n",
    "surname=[\"1\",\"2\",\"3\",\"4\"]\n",
    "for i in name:\n",
    "    for j in surname:\n",
    "        print(i,j)"
   ]
  },
  {
   "cell_type": "markdown",
   "id": "f4110c79-b6a2-47f5-b3ef-3994b9270a24",
   "metadata": {},
   "source": [
    "# Nested Loop"
   ]
  },
  {
   "cell_type": "code",
   "execution_count": null,
   "id": "58a92eae-7463-43cc-89f8-cd88142b0999",
   "metadata": {},
   "outputs": [],
   "source": [
    "range(\"start\",\"stop\",\"step\")"
   ]
  },
  {
   "cell_type": "code",
   "execution_count": 32,
   "id": "2903afa7-dbd1-44a0-b581-9cd82f17f0ce",
   "metadata": {},
   "outputs": [
    {
     "name": "stdout",
     "output_type": "stream",
     "text": [
      "0\n",
      "1\n",
      "2\n",
      "3\n",
      "4\n",
      "5\n",
      "6\n",
      "7\n",
      "8\n",
      "9\n"
     ]
    }
   ],
   "source": [
    "for n in range(0,10):\n",
    "    print(n)"
   ]
  },
  {
   "cell_type": "code",
   "execution_count": 34,
   "id": "d26ba610-01d4-4d70-810a-00dd470c8346",
   "metadata": {},
   "outputs": [
    {
     "name": "stdout",
     "output_type": "stream",
     "text": [
      "hello how are you 1\n",
      "hello how are you 1\n",
      "hello how are you 1\n",
      "hello how are you 1\n",
      "hello how are you 2\n",
      "hello how are you 2\n",
      "hello how are you 2\n",
      "hello how are you 2\n",
      "hello how are you 3\n",
      "hello how are you 3\n",
      "hello how are you 3\n",
      "hello how are you 3\n",
      "hello how are you 4\n",
      "hello how are you 4\n",
      "hello how are you 4\n",
      "hello how are you 4\n"
     ]
    }
   ],
   "source": [
    "for n in range(1,5):\n",
    "    for j in name:\n",
    "        print(\"hello how are you\",n)"
   ]
  },
  {
   "cell_type": "code",
   "execution_count": null,
   "id": "9c2bd5cc-de31-420e-8be5-6e77f20f0771",
   "metadata": {},
   "outputs": [],
   "source": [
    "#print even numbers between 10 to 30"
   ]
  },
  {
   "cell_type": "code",
   "execution_count": 37,
   "id": "3891442d-d03a-42b6-954b-8d9f52285c56",
   "metadata": {},
   "outputs": [
    {
     "name": "stdout",
     "output_type": "stream",
     "text": [
      "10\n",
      "12\n",
      "14\n",
      "16\n",
      "18\n",
      "20\n",
      "22\n",
      "24\n",
      "26\n",
      "28\n"
     ]
    }
   ],
   "source": [
    "for j in range(10,30):\n",
    "    if j%2==0:\n",
    "        print(j)"
   ]
  },
  {
   "cell_type": "code",
   "execution_count": null,
   "id": "a31bc6c5-a79a-4ed2-a280-d64e2bda96c7",
   "metadata": {},
   "outputs": [],
   "source": [
    "#print those numbers b/w 10 to 100 where 1st digit is 5"
   ]
  },
  {
   "cell_type": "code",
   "execution_count": 41,
   "id": "a577eddd-d1c3-4a2b-ad5a-c1453876e425",
   "metadata": {},
   "outputs": [
    {
     "name": "stdout",
     "output_type": "stream",
     "text": [
      "15\n",
      "25\n",
      "35\n",
      "45\n",
      "55\n",
      "65\n",
      "75\n",
      "85\n",
      "95\n"
     ]
    }
   ],
   "source": [
    "for i in range(10,100):\n",
    "    if i%10==5:\n",
    "        print(i)"
   ]
  },
  {
   "cell_type": "code",
   "execution_count": null,
   "id": "ee910bb6-63ce-4139-ad2a-896ddad3a281",
   "metadata": {},
   "outputs": [],
   "source": [
    "#create a table of 2\n",
    "#if we want to reverse the use[10,1,-1]"
   ]
  },
  {
   "cell_type": "code",
   "execution_count": 53,
   "id": "6aa13f51-629e-4154-9428-9a674afea4b2",
   "metadata": {},
   "outputs": [
    {
     "name": "stdin",
     "output_type": "stream",
     "text": [
      " 2\n"
     ]
    },
    {
     "name": "stdout",
     "output_type": "stream",
     "text": [
      "2 x 1= 2\n",
      "2 x 2= 4\n",
      "2 x 3= 6\n",
      "2 x 4= 8\n",
      "2 x 5= 10\n",
      "2 x 6= 12\n",
      "2 x 7= 14\n",
      "2 x 8= 16\n",
      "2 x 9= 18\n",
      "2 x 10= 20\n"
     ]
    }
   ],
   "source": [
    "n=int(input())\n",
    "for i in range(1,11):\n",
    "    print(\"{} x {}= {}\".format(n,i,i*n))"
   ]
  },
  {
   "cell_type": "code",
   "execution_count": null,
   "id": "afe8abb0-eb26-4c66-8e20-404373af7e98",
   "metadata": {},
   "outputs": [],
   "source": [
    "#star pattern"
   ]
  },
  {
   "cell_type": "code",
   "execution_count": 59,
   "id": "90db2c6b-b79e-4d40-ab5a-d130b46fabd4",
   "metadata": {},
   "outputs": [
    {
     "name": "stdout",
     "output_type": "stream",
     "text": [
      " * \n",
      " *  * \n",
      " *  *  * \n",
      " *  *  *  * \n",
      " *  *  *  *  * \n"
     ]
    }
   ],
   "source": [
    "for i in range(1,6):\n",
    "    print(i*\" * \")"
   ]
  },
  {
   "cell_type": "code",
   "execution_count": 61,
   "id": "251fe0ca-9b55-40cf-887d-965bb85472b3",
   "metadata": {},
   "outputs": [
    {
     "name": "stdout",
     "output_type": "stream",
     "text": [
      " *  *  *  *  *  * \n",
      " *  *  *  *  * \n",
      " *  *  *  * \n",
      " *  *  * \n",
      " *  * \n",
      " * \n"
     ]
    }
   ],
   "source": [
    "for i in range(6,0,-1):\n",
    "    print(i*\" * \")"
   ]
  },
  {
   "cell_type": "code",
   "execution_count": null,
   "id": "d362d0a3-a5b1-4a54-84c4-bcf3c0c1c496",
   "metadata": {},
   "outputs": [],
   "source": [
    "#now create the mirror image of above pattern"
   ]
  },
  {
   "cell_type": "code",
   "execution_count": 67,
   "id": "d41cf058-c67c-4ed7-b6f6-c64f96e01240",
   "metadata": {},
   "outputs": [
    {
     "name": "stdout",
     "output_type": "stream",
     "text": [
      "        * \n",
      "      * * \n",
      "    * * * \n",
      "  * * * * \n",
      "* * * * * \n"
     ]
    }
   ],
   "source": [
    "for i in range(1,6):\n",
    "    for j in range(1,6):\n",
    "        if j>=6-i:\n",
    "            print(\"*\",end=\" \")\n",
    "        else:\n",
    "            print(\" \",end=\" \")\n",
    "    print()"
   ]
  },
  {
   "cell_type": "code",
   "execution_count": null,
   "id": "fe2b0087-5659-45a5-b1a3-974046c6e112",
   "metadata": {},
   "outputs": [],
   "source": [
    "#upside down "
   ]
  },
  {
   "cell_type": "code",
   "execution_count": 69,
   "id": "f12f6b1b-af67-45c1-8bd4-3877a43f82e6",
   "metadata": {},
   "outputs": [
    {
     "name": "stdout",
     "output_type": "stream",
     "text": [
      "* * * * * \n",
      "  * * * * \n",
      "    * * * \n",
      "      * * \n",
      "        * \n"
     ]
    }
   ],
   "source": [
    "for i in range(1,6):\n",
    "    for j in range(1,6):\n",
    "        if j>=i:\n",
    "            print(\"*\",end=\" \")\n",
    "        else:\n",
    "            print(\" \",end=\" \")\n",
    "    print()"
   ]
  },
  {
   "cell_type": "code",
   "execution_count": null,
   "id": "e2f63a54-b018-44a1-b0ff-0af1e042a321",
   "metadata": {},
   "outputs": [],
   "source": []
  }
 ],
 "metadata": {
  "kernelspec": {
   "display_name": "Python 3 (ipykernel)",
   "language": "python",
   "name": "python3"
  },
  "language_info": {
   "codemirror_mode": {
    "name": "ipython",
    "version": 3
   },
   "file_extension": ".py",
   "mimetype": "text/x-python",
   "name": "python",
   "nbconvert_exporter": "python",
   "pygments_lexer": "ipython3",
   "version": "3.12.4"
  }
 },
 "nbformat": 4,
 "nbformat_minor": 5
}
