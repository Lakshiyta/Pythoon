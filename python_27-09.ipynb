{
 "cells": [
  {
   "cell_type": "markdown",
   "id": "0bf4b737-87f1-4358-9c51-f40a00a84523",
   "metadata": {},
   "source": [
    "# For loop"
   ]
  },
  {
   "cell_type": "code",
   "execution_count": 2,
   "id": "b90f634f-ed77-4735-acbf-05cea09ae083",
   "metadata": {},
   "outputs": [
    {
     "name": "stdout",
     "output_type": "stream",
     "text": [
      "1\n",
      "2\n",
      "3\n",
      "4\n",
      "5\n",
      "6\n",
      "7\n",
      "8\n",
      "9\n",
      "10\n",
      "11\n",
      "12\n",
      "13\n",
      "14\n",
      "15\n",
      "16\n",
      "17\n",
      "18\n",
      "19\n"
     ]
    }
   ],
   "source": [
    "for i in range(1,20):\n",
    "    print(i)"
   ]
  },
  {
   "cell_type": "code",
   "execution_count": 4,
   "id": "ae643230-dd3f-4f94-a0aa-6071d8306a0b",
   "metadata": {},
   "outputs": [
    {
     "name": "stdout",
     "output_type": "stream",
     "text": [
      "1\n",
      "2\n",
      "3\n",
      "4\n"
     ]
    }
   ],
   "source": [
    "for i in range(1,11):\n",
    "    if i==5:\n",
    "        break\n",
    "    print(i)\n"
   ]
  },
  {
   "cell_type": "code",
   "execution_count": 6,
   "id": "3e9b3e0c-795d-48c5-a1ea-17cdea24be09",
   "metadata": {},
   "outputs": [
    {
     "name": "stdout",
     "output_type": "stream",
     "text": [
      "2\n"
     ]
    }
   ],
   "source": [
    "for i in range(2,10,2):\n",
    "    if i==4:\n",
    "        break\n",
    "    print(i)"
   ]
  },
  {
   "cell_type": "code",
   "execution_count": 8,
   "id": "3c09451f-e6ad-4ffc-8596-14ce6f99675c",
   "metadata": {},
   "outputs": [
    {
     "name": "stdout",
     "output_type": "stream",
     "text": [
      "1\n",
      "2\n",
      "3\n",
      "4\n",
      "6\n",
      "7\n",
      "8\n",
      "9\n"
     ]
    }
   ],
   "source": [
    "for i in range(1,10):\n",
    "    if i==5:\n",
    "        continue\n",
    "    print(i)"
   ]
  },
  {
   "cell_type": "code",
   "execution_count": 10,
   "id": "63a72527-8c42-454c-a24d-cec6998d8bc4",
   "metadata": {
    "scrolled": true
   },
   "outputs": [
    {
     "name": "stdout",
     "output_type": "stream",
     "text": [
      "1\n",
      "2\n",
      "3\n",
      "4\n",
      "5\n",
      "6\n",
      "7\n",
      "8\n",
      "9\n"
     ]
    }
   ],
   "source": [
    "for i in range(1,10):\n",
    "    if i==6:\n",
    "        pass\n",
    "    print(i)"
   ]
  },
  {
   "cell_type": "markdown",
   "id": "36ddea0f-5c76-47fd-b863-a5f981408d8c",
   "metadata": {},
   "source": [
    "# While loop"
   ]
  },
  {
   "cell_type": "code",
   "execution_count": 12,
   "id": "d4c796b4-ec88-4353-93f5-1adaad731282",
   "metadata": {},
   "outputs": [
    {
     "name": "stdout",
     "output_type": "stream",
     "text": [
      "0\n",
      "1\n",
      "2\n",
      "3\n",
      "4\n",
      "5\n",
      "6\n",
      "7\n",
      "8\n",
      "9\n",
      "10\n"
     ]
    }
   ],
   "source": [
    "a = 0\n",
    "while a<=10:\n",
    "    print(a)\n",
    "    a = a+1"
   ]
  },
  {
   "cell_type": "code",
   "execution_count": 4,
   "id": "38efc0ba-8fcf-496b-9d92-6dd541c24649",
   "metadata": {},
   "outputs": [
    {
     "name": "stdout",
     "output_type": "stream",
     "text": [
      "10 --> 100\n",
      "11 --> 121\n",
      "12 --> 144\n",
      "13 --> 169\n",
      "14 --> 196\n",
      "15 --> 225\n",
      "16 --> 256\n",
      "17 --> 289\n",
      "18 --> 324\n",
      "19 --> 361\n",
      "20 --> 400\n"
     ]
    }
   ],
   "source": [
    "# calcuate square between 10 to 20 \n",
    "s = 10\n",
    "while s<=20:\n",
    "    print(s,\"-->\",s**2)\n",
    "    s=s+1"
   ]
  },
  {
   "cell_type": "code",
   "execution_count": 16,
   "id": "b098e4cd-50fe-4507-b0ac-8eb485016c6f",
   "metadata": {},
   "outputs": [
    {
     "name": "stdin",
     "output_type": "stream",
     "text": [
      "Enter the number  3\n"
     ]
    },
    {
     "name": "stdout",
     "output_type": "stream",
     "text": [
      "3 x 1 = 3\n",
      "3 x 2 = 6\n",
      "3 x 3 = 9\n",
      "3 x 4 = 12\n",
      "3 x 5 = 15\n",
      "3 x 6 = 18\n",
      "3 x 7 = 21\n",
      "3 x 8 = 24\n",
      "3 x 9 = 27\n",
      "3 x 10 = 30\n"
     ]
    }
   ],
   "source": [
    "# table of x\n",
    "x = int(input(\"Enter the number \"))\n",
    "f = 1\n",
    "while f<=10:\n",
    "    print(\"{} x {} = {}\".format(x,f,x*f))\n",
    "    f=f+1"
   ]
  },
  {
   "cell_type": "code",
   "execution_count": 18,
   "id": "6779ef55-55bb-4542-b44b-f06e08ceb92e",
   "metadata": {},
   "outputs": [
    {
     "name": "stdout",
     "output_type": "stream",
     "text": [
      "10\n",
      "9\n",
      "8\n",
      "7\n",
      "6\n",
      "5\n",
      "4\n",
      "3\n",
      "2\n",
      "1\n"
     ]
    }
   ],
   "source": [
    "# print numbers in reverse order from 10 to 1\n",
    "g = 10\n",
    "while g>0:\n",
    "    print(g)\n",
    "    g=g-1"
   ]
  },
  {
   "cell_type": "code",
   "execution_count": 20,
   "id": "4edbb1b1-408f-4117-95e2-aa469042c56f",
   "metadata": {},
   "outputs": [
    {
     "name": "stdout",
     "output_type": "stream",
     "text": [
      "35546981\n"
     ]
    }
   ],
   "source": [
    "h = 18964553\n",
    "while h>0:\n",
    "    r = h%10\n",
    "    h = h//10\n",
    "    print(r,end=\"\")\n",
    "print()"
   ]
  },
  {
   "cell_type": "code",
   "execution_count": 22,
   "id": "3325e99a-bfbd-434b-9db7-0613e9fe45e2",
   "metadata": {},
   "outputs": [
    {
     "name": "stdout",
     "output_type": "stream",
     "text": [
      "321\n"
     ]
    }
   ],
   "source": [
    "h = 123\n",
    "j = 0\n",
    "while h>0:\n",
    "    j= j*10+h%10\n",
    "    h=h//10\n",
    "print(j)"
   ]
  },
  {
   "cell_type": "code",
   "execution_count": 24,
   "id": "31161f62-8582-42ae-8660-4ff742decb93",
   "metadata": {},
   "outputs": [
    {
     "name": "stdout",
     "output_type": "stream",
     "text": [
      "8\n"
     ]
    }
   ],
   "source": [
    "h = 18964553\n",
    "count = 0\n",
    "while h>0:\n",
    "    r = h%10\n",
    "    h = h//10\n",
    "    count = count+1\n",
    "    \n",
    "print(count)"
   ]
  },
  {
   "cell_type": "code",
   "execution_count": 28,
   "id": "a83c7a00-1c33-4cc4-aeff-b18ae9cc2792",
   "metadata": {},
   "outputs": [],
   "source": [
    "k = \"there are many people\" #There Are Many People\n",
    "h = \"hello how are you\" # Hello How Are You\n",
    "o = \"there is 5g network\" # There Is 5g Network"
   ]
  },
  {
   "cell_type": "code",
   "execution_count": 30,
   "id": "c578622a-3bcc-46cf-9b84-3201ec0f53d1",
   "metadata": {},
   "outputs": [
    {
     "name": "stdout",
     "output_type": "stream",
     "text": [
      "There\n",
      "Is\n",
      "5g\n",
      "Network\n"
     ]
    }
   ],
   "source": [
    "for i in o.split():\n",
    "    if i[0].isalpha():\n",
    "        i=i.title()\n",
    "        print(i)\n",
    "    elif i[0] in \"1234567890\":\n",
    "        print(i)"
   ]
  },
  {
   "cell_type": "code",
   "execution_count": null,
   "id": "ef4aae6a-48fc-4511-9e6a-4371a1e3e407",
   "metadata": {},
   "outputs": [],
   "source": []
  }
 ],
 "metadata": {
  "kernelspec": {
   "display_name": "Python 3 (ipykernel)",
   "language": "python",
   "name": "python3"
  },
  "language_info": {
   "codemirror_mode": {
    "name": "ipython",
    "version": 3
   },
   "file_extension": ".py",
   "mimetype": "text/x-python",
   "name": "python",
   "nbconvert_exporter": "python",
   "pygments_lexer": "ipython3",
   "version": "3.12.4"
  }
 },
 "nbformat": 4,
 "nbformat_minor": 5
}
