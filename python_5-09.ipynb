{
 "cells": [
  {
   "cell_type": "markdown",
   "id": "b2e952e2-c5e9-464d-b4b1-091b095e0285",
   "metadata": {},
   "source": [
    "# Conditional Statement"
   ]
  },
  {
   "cell_type": "code",
   "execution_count": null,
   "id": "318d0d18-9df5-44a1-94d4-2fd47a3869e8",
   "metadata": {},
   "outputs": [],
   "source": [
    "if condition1:\n",
    "    print(\"statement1\")\n",
    "elif condition2:\n",
    "    print(\"statement2\")\n",
    "elif condition3:\n",
    "    print(\"statement3\")\n",
    "else:\n",
    "    print(\"last_sentence\")"
   ]
  },
  {
   "cell_type": "code",
   "execution_count": null,
   "id": "cd6c76a6-21a3-40a2-a27b-907432972139",
   "metadata": {},
   "outputs": [],
   "source": [
    "#check if x is positive or negative"
   ]
  },
  {
   "cell_type": "code",
   "execution_count": 1,
   "id": "f0e900f0-f259-4224-8b6f-dcb021fba010",
   "metadata": {},
   "outputs": [
    {
     "name": "stdin",
     "output_type": "stream",
     "text": [
      "Enter the number 9\n"
     ]
    },
    {
     "name": "stdout",
     "output_type": "stream",
     "text": [
      "x is positive\n"
     ]
    }
   ],
   "source": [
    "x= float(input(\"Enter the number\"))\n",
    "if x>0:\n",
    "    print(\"x is positive\")\n",
    "else:\n",
    "    print(\"x is negative\")"
   ]
  },
  {
   "cell_type": "code",
   "execution_count": 3,
   "id": "2a6791c5-2ee2-4e7f-ad12-b2ecf655d4ae",
   "metadata": {},
   "outputs": [
    {
     "name": "stdin",
     "output_type": "stream",
     "text": [
      "Enter the number 0\n"
     ]
    },
    {
     "name": "stdout",
     "output_type": "stream",
     "text": [
      "x is equals to zero\n"
     ]
    }
   ],
   "source": [
    "x= float(input(\"Enter the number\"))\n",
    "if x>0:\n",
    "    print(\"x is positive\")\n",
    "elif x==0:\n",
    "    print(\"x is equals to zero\")\n",
    "else:\n",
    "    print(\"x is negative\")"
   ]
  },
  {
   "cell_type": "code",
   "execution_count": null,
   "id": "7db4ed3e-e87c-4e9e-b899-8127f4ce154c",
   "metadata": {},
   "outputs": [],
   "source": [
    "#check if x value is greater then 100 or not"
   ]
  },
  {
   "cell_type": "code",
   "execution_count": 9,
   "id": "da6ef0f2-452d-4ee1-aebc-cb5d3750d1dd",
   "metadata": {},
   "outputs": [
    {
     "name": "stdin",
     "output_type": "stream",
     "text": [
      "Enter the number 121\n"
     ]
    },
    {
     "name": "stdout",
     "output_type": "stream",
     "text": [
      "x is greater than 100\n"
     ]
    }
   ],
   "source": [
    "x=float(input(\"Enter the number\"))\n",
    "if x>100:\n",
    "    print(\"x is greater than 100\")\n",
    "else:\n",
    "    print(\"x is lesser than 100\")"
   ]
  },
  {
   "cell_type": "code",
   "execution_count": null,
   "id": "25eaf238-f0e9-401d-be12-1f5080770b9e",
   "metadata": {},
   "outputs": [],
   "source": [
    "#check if the number is even or odd"
   ]
  },
  {
   "cell_type": "code",
   "execution_count": 13,
   "id": "148ac6a4-4e4f-424d-8f5c-84f6f4860490",
   "metadata": {},
   "outputs": [
    {
     "name": "stdin",
     "output_type": "stream",
     "text": [
      "Enter the number 42\n"
     ]
    },
    {
     "name": "stdout",
     "output_type": "stream",
     "text": [
      "42.0 number is even\n"
     ]
    }
   ],
   "source": [
    "w=float(input(\"Enter the number\"))\n",
    "if w%2==0:\n",
    "    print(w,\"number is even\")\n",
    "else:\n",
    "    print(w,\"number is odd\")"
   ]
  },
  {
   "cell_type": "code",
   "execution_count": null,
   "id": "b8d7f2de-533d-4301-a2ee-b7c4a4803e4a",
   "metadata": {},
   "outputs": [],
   "source": [
    "#calculate square if number is even else calculate cube"
   ]
  },
  {
   "cell_type": "code",
   "execution_count": 17,
   "id": "5ab1056e-a45f-48bc-ad4c-519195066bbf",
   "metadata": {},
   "outputs": [
    {
     "name": "stdin",
     "output_type": "stream",
     "text": [
      "Enter the number 3\n"
     ]
    },
    {
     "name": "stdout",
     "output_type": "stream",
     "text": [
      "Cube of number is  27.0\n"
     ]
    }
   ],
   "source": [
    "c=float(input(\"Enter the number\"))\n",
    "if c%2==0:\n",
    "    print(\"Square of number is\", c**2)\n",
    "else:\n",
    "    print(\"Cube of number is \", c**3)"
   ]
  },
  {
   "cell_type": "code",
   "execution_count": 2,
   "id": "b917bf40-2253-454a-abbf-6e624ef7066f",
   "metadata": {},
   "outputs": [
    {
     "name": "stdin",
     "output_type": "stream",
     "text": [
      "Enter the number 4\n"
     ]
    },
    {
     "name": "stdout",
     "output_type": "stream",
     "text": [
      "16.0 is square cause c is even\n"
     ]
    }
   ],
   "source": [
    "c=float(input(\"Enter the number\"))\n",
    "if c%2==0:\n",
    "    y=c**2\n",
    "    print(y,\"is square cause c is even\")\n",
    "else:\n",
    "    y=c**3\n",
    "    print(y,\"is cube cause c is odd\")"
   ]
  },
  {
   "cell_type": "code",
   "execution_count": null,
   "id": "7fec3beb-503f-4dd0-9c7d-c5a6adf93d1d",
   "metadata": {},
   "outputs": [],
   "source": [
    "#if x is more than 100 and even calculate square\n",
    "#if x is more than 100 and odd calculate cube"
   ]
  },
  {
   "cell_type": "code",
   "execution_count": 31,
   "id": "3105a105-53d7-4fca-bd76-6ccd32a54072",
   "metadata": {},
   "outputs": [
    {
     "name": "stdin",
     "output_type": "stream",
     "text": [
      "Enter the number 102\n"
     ]
    },
    {
     "name": "stdout",
     "output_type": "stream",
     "text": [
      "10404.0 is square cause x is even\n"
     ]
    }
   ],
   "source": [
    "x=float(input(\"Enter the number\"))\n",
    "if x>100 and x%2==0:\n",
    "    print(x**2,\"is square cause x is even\")\n",
    "else:\n",
    "    print(x**3,\"is cube cause x is odd\")"
   ]
  },
  {
   "cell_type": "code",
   "execution_count": null,
   "id": "d6f31153-7f68-4a94-8baa-32ca453551b2",
   "metadata": {},
   "outputs": [],
   "source": [
    "#if x is more than 100 and even calculate square\n",
    "#if x is more than 100 and odd calculate cube\n",
    "#if x is less than 100 and even calculate sqrt\n",
    "#if x is less than 100 and odd calculate cuberoot\n",
    "#else number is equal to 100"
   ]
  },
  {
   "cell_type": "code",
   "execution_count": 47,
   "id": "65f09e90-dadf-416b-91fd-eea75d530b40",
   "metadata": {},
   "outputs": [
    {
     "name": "stdin",
     "output_type": "stream",
     "text": [
      "Enter the number 444\n"
     ]
    },
    {
     "name": "stdout",
     "output_type": "stream",
     "text": [
      "197136.0 is square cause x is even\n"
     ]
    }
   ],
   "source": [
    "x=float(input(\"Enter the number\"))\n",
    "if x>100 and x%2==0:\n",
    "    print(x**2,\"is square cause x is even\")\n",
    "elif x>100 and x%2!=0:\n",
    "    print(x**3,\"is cube cause x is odd\")\n",
    "elif x<100 and x%2==0:\n",
    "    print(x**(1/2),\"is sqrt cause x is even\")\n",
    "elif x<100 and x%2!=0:\n",
    "    print(x**(1/3), \"is cuberoot cause x is odd\")\n",
    "else:\n",
    "    print(\"number is equal to 100\")"
   ]
  },
  {
   "cell_type": "code",
   "execution_count": null,
   "id": "3b4d0c03-532b-4217-a301-112272d8b0e9",
   "metadata": {},
   "outputs": [],
   "source": []
  }
 ],
 "metadata": {
  "kernelspec": {
   "display_name": "Python 3 (ipykernel)",
   "language": "python",
   "name": "python3"
  },
  "language_info": {
   "codemirror_mode": {
    "name": "ipython",
    "version": 3
   },
   "file_extension": ".py",
   "mimetype": "text/x-python",
   "name": "python",
   "nbconvert_exporter": "python",
   "pygments_lexer": "ipython3",
   "version": "3.12.4"
  }
 },
 "nbformat": 4,
 "nbformat_minor": 5
}
