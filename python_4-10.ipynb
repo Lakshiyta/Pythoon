{
 "cells": [
  {
   "cell_type": "markdown",
   "id": "912334fb-9938-4b63-838b-3d62fec40f71",
   "metadata": {},
   "source": [
    "# Define Function"
   ]
  },
  {
   "cell_type": "code",
   "execution_count": null,
   "id": "9f5c4843-869f-493d-8f8a-bc31c9dadc82",
   "metadata": {},
   "outputs": [],
   "source": [
    "def name_function(argumnet1,argument1,.....):\n",
    "    return calculation"
   ]
  },
  {
   "cell_type": "code",
   "execution_count": 2,
   "id": "d5345cae-1637-4f0a-a67e-b56afeb4d675",
   "metadata": {},
   "outputs": [],
   "source": [
    "# create a function to add 2 variables\n",
    "def add(x,y):\n",
    "    return x+y"
   ]
  },
  {
   "cell_type": "code",
   "execution_count": 4,
   "id": "0698faf1-a841-4477-a298-b61b4c2a8265",
   "metadata": {},
   "outputs": [
    {
     "data": {
      "text/plain": [
       "17"
      ]
     },
     "execution_count": 4,
     "metadata": {},
     "output_type": "execute_result"
    }
   ],
   "source": [
    "add(7,10)"
   ]
  },
  {
   "cell_type": "code",
   "execution_count": 10,
   "id": "aab09dc6-ade5-4893-81f2-20f76d76fca2",
   "metadata": {},
   "outputs": [],
   "source": [
    "# function to subtract 2 variables\n",
    "def sub(x,y):\n",
    "    return x-y"
   ]
  },
  {
   "cell_type": "code",
   "execution_count": 14,
   "id": "89894131-fcc2-4da3-bcd9-65e1c034d252",
   "metadata": {},
   "outputs": [
    {
     "data": {
      "text/plain": [
       "11"
      ]
     },
     "execution_count": 14,
     "metadata": {},
     "output_type": "execute_result"
    }
   ],
   "source": [
    "sub(20,9)"
   ]
  },
  {
   "cell_type": "code",
   "execution_count": 26,
   "id": "5480ce05-f5e0-4157-9c77-1c5f96834ccc",
   "metadata": {},
   "outputs": [],
   "source": [
    "# function to calculate a square\n",
    "def square(x):\n",
    "    return x**2"
   ]
  },
  {
   "cell_type": "code",
   "execution_count": 28,
   "id": "1411a042-806b-4792-862b-fbd0b96e0fc2",
   "metadata": {},
   "outputs": [
    {
     "data": {
      "text/plain": [
       "2025"
      ]
     },
     "execution_count": 28,
     "metadata": {},
     "output_type": "execute_result"
    }
   ],
   "source": [
    "square(45)"
   ]
  },
  {
   "cell_type": "code",
   "execution_count": 30,
   "id": "d3c7153e-0574-41f6-931e-3ec9f46929a3",
   "metadata": {},
   "outputs": [],
   "source": [
    "#function to calculate a cube\n",
    "def cube(x):\n",
    "    return x**3"
   ]
  },
  {
   "cell_type": "code",
   "execution_count": 32,
   "id": "a96cb0f6-2881-488d-b68c-4bd55f6af8b6",
   "metadata": {},
   "outputs": [
    {
     "data": {
      "text/plain": [
       "729"
      ]
     },
     "execution_count": 32,
     "metadata": {},
     "output_type": "execute_result"
    }
   ],
   "source": [
    "cube(9)"
   ]
  },
  {
   "cell_type": "code",
   "execution_count": 50,
   "id": "2692a67e-ab24-42a7-8eea-c30f50e7772a",
   "metadata": {},
   "outputs": [],
   "source": [
    "# function to calculate a square root\n",
    "def sqroot(x):\n",
    "    return x**(1/2)"
   ]
  },
  {
   "cell_type": "code",
   "execution_count": 52,
   "id": "8a177a28-45d7-4d15-93f9-f900dc76b62a",
   "metadata": {},
   "outputs": [
    {
     "data": {
      "text/plain": [
       "6.708203932499369"
      ]
     },
     "execution_count": 52,
     "metadata": {},
     "output_type": "execute_result"
    }
   ],
   "source": [
    "sqroot(45)"
   ]
  },
  {
   "cell_type": "code",
   "execution_count": 54,
   "id": "b93c9df7-4ebf-43bc-a366-b55a747ec21a",
   "metadata": {},
   "outputs": [],
   "source": [
    "# function to calculate a cube root\n",
    "def croot(x):\n",
    "    return x**(1/3)"
   ]
  },
  {
   "cell_type": "code",
   "execution_count": 56,
   "id": "9ab0b119-7e4e-4701-9c1e-1874924a44a2",
   "metadata": {},
   "outputs": [
    {
     "data": {
      "text/plain": [
       "8.276772529143361"
      ]
     },
     "execution_count": 56,
     "metadata": {},
     "output_type": "execute_result"
    }
   ],
   "source": [
    "croot(567)"
   ]
  },
  {
   "cell_type": "code",
   "execution_count": 42,
   "id": "8c68c47a-ea61-450b-af98-33e76aa12d5e",
   "metadata": {},
   "outputs": [],
   "source": [
    "#create a single function to calculate square,cube,square root,cube root\n",
    "def cal(x,y):\n",
    "    return x**(y)"
   ]
  },
  {
   "cell_type": "code",
   "execution_count": 44,
   "id": "3826f32d-72d8-441b-a689-ae18bbea8070",
   "metadata": {},
   "outputs": [
    {
     "data": {
      "text/plain": [
       "16"
      ]
     },
     "execution_count": 44,
     "metadata": {},
     "output_type": "execute_result"
    }
   ],
   "source": [
    "cal(4,2)"
   ]
  },
  {
   "cell_type": "code",
   "execution_count": 46,
   "id": "5518ca87-da69-4fa4-a113-1131527be0cd",
   "metadata": {},
   "outputs": [
    {
     "data": {
      "text/plain": [
       "125"
      ]
     },
     "execution_count": 46,
     "metadata": {},
     "output_type": "execute_result"
    }
   ],
   "source": [
    "cal(5,3)"
   ]
  },
  {
   "cell_type": "code",
   "execution_count": 48,
   "id": "78540141-c20c-465a-ac6c-a85d26de596e",
   "metadata": {},
   "outputs": [
    {
     "data": {
      "text/plain": [
       "5.0"
      ]
     },
     "execution_count": 48,
     "metadata": {},
     "output_type": "execute_result"
    }
   ],
   "source": [
    "cal(25,(1/2))"
   ]
  },
  {
   "cell_type": "code",
   "execution_count": 60,
   "id": "b12e427c-720e-4f7f-a692-1625c0d02a49",
   "metadata": {},
   "outputs": [
    {
     "data": {
      "text/plain": [
       "5.0"
      ]
     },
     "execution_count": 60,
     "metadata": {},
     "output_type": "execute_result"
    }
   ],
   "source": [
    "cal(125,(1/3))"
   ]
  },
  {
   "cell_type": "code",
   "execution_count": 78,
   "id": "7b514905-f21b-4e82-8a7a-520b3b451698",
   "metadata": {},
   "outputs": [],
   "source": [
    "# function to calculate area of circle\n",
    "def area(r):\n",
    "    return 3.14*(r**2)"
   ]
  },
  {
   "cell_type": "code",
   "execution_count": 80,
   "id": "2c2a0b75-d861-45b0-a935-75517b1e444e",
   "metadata": {},
   "outputs": [
    {
     "data": {
      "text/plain": [
       "50.24"
      ]
     },
     "execution_count": 80,
     "metadata": {},
     "output_type": "execute_result"
    }
   ],
   "source": [
    "area(4)"
   ]
  },
  {
   "cell_type": "code",
   "execution_count": 86,
   "id": "7845c4cf-ad95-4884-99ec-16539c79775b",
   "metadata": {},
   "outputs": [],
   "source": [
    "def area_cir():\n",
    "    r=float(input(\"Enter the R:\"))\n",
    "    pi=float(input(\"Enter the pi:\"))\n",
    "    return pi*(r*r)"
   ]
  },
  {
   "cell_type": "code",
   "execution_count": 90,
   "id": "94e51543-8e45-4a73-af43-6d9fcc1e7278",
   "metadata": {},
   "outputs": [
    {
     "name": "stdin",
     "output_type": "stream",
     "text": [
      "Enter the R: 7\n",
      "Enter the pi: 3.14\n"
     ]
    },
    {
     "data": {
      "text/plain": [
       "153.86"
      ]
     },
     "execution_count": 90,
     "metadata": {},
     "output_type": "execute_result"
    }
   ],
   "source": [
    "area_cir()"
   ]
  },
  {
   "cell_type": "code",
   "execution_count": 96,
   "id": "3d4c3591-be2d-4aa8-b22f-6a627a1b375c",
   "metadata": {},
   "outputs": [],
   "source": [
    "# function to calculate the area of triangle\n",
    "def area_tri():\n",
    "    length=float(input(\"Enter the value of length:\"))\n",
    "    base=float(input(\"Enter the value of base:\"))\n",
    "    return (1/2)*length*base"
   ]
  },
  {
   "cell_type": "code",
   "execution_count": 94,
   "id": "689e5510-434e-4d62-b2ed-aa1e26bfa529",
   "metadata": {},
   "outputs": [
    {
     "name": "stdin",
     "output_type": "stream",
     "text": [
      "Enter the value of length: 4\n",
      "Enter the value of base: 3\n"
     ]
    },
    {
     "data": {
      "text/plain": [
       "6.0"
      ]
     },
     "execution_count": 94,
     "metadata": {},
     "output_type": "execute_result"
    }
   ],
   "source": [
    "area_tri()"
   ]
  },
  {
   "cell_type": "code",
   "execution_count": 100,
   "id": "b6a61aff-be5a-407b-8b5c-b076a75f2b95",
   "metadata": {},
   "outputs": [],
   "source": [
    "# calculate a data function to find the leap year\n",
    "def leap_year(year):\n",
    "    if(year % 4 == 0 and year % 100 !=0 or (year % 400== 0)):\n",
    "        return True\n",
    "    else:\n",
    "        return False"
   ]
  },
  {
   "cell_type": "code",
   "execution_count": 106,
   "id": "21e8ff3f-4750-4877-8e07-485c3630f4b4",
   "metadata": {},
   "outputs": [
    {
     "data": {
      "text/plain": [
       "False"
      ]
     },
     "execution_count": 106,
     "metadata": {},
     "output_type": "execute_result"
    }
   ],
   "source": [
    "leap_year(2006)"
   ]
  },
  {
   "cell_type": "code",
   "execution_count": null,
   "id": "596c4f3d-5cf9-4585-82c1-6ac7e01c87fd",
   "metadata": {},
   "outputs": [],
   "source": []
  }
 ],
 "metadata": {
  "kernelspec": {
   "display_name": "Python 3 (ipykernel)",
   "language": "python",
   "name": "python3"
  },
  "language_info": {
   "codemirror_mode": {
    "name": "ipython",
    "version": 3
   },
   "file_extension": ".py",
   "mimetype": "text/x-python",
   "name": "python",
   "nbconvert_exporter": "python",
   "pygments_lexer": "ipython3",
   "version": "3.12.4"
  }
 },
 "nbformat": 4,
 "nbformat_minor": 5
}
